{
 "cells": [
  {
   "cell_type": "markdown",
   "metadata": {
    "collapsed": true
   },
   "source": [
    "## Load processed metadata combined csv so we can start creating the system"
   ]
  },
  {
   "cell_type": "code",
   "execution_count": 1,
   "metadata": {},
   "outputs": [],
   "source": [
    "import pandas as pd\n",
    "\n",
    "qualified_movies_df = pd.read_csv('.\\\\data\\\\processed_movies\\\\qualified_all_metadata.csv')"
   ]
  },
  {
   "cell_type": "markdown",
   "metadata": {},
   "source": [
    "## Create the two vectorizers needed for the system"
   ]
  },
  {
   "cell_type": "code",
   "execution_count": 2,
   "metadata": {},
   "outputs": [],
   "source": [
    "from sklearn.feature_extraction.text import TfidfVectorizer\n",
    "\n",
    "\"\"\"make vectorizers\"\"\"\n",
    "tf_vectorizer = TfidfVectorizer(analyzer='word', lowercase=True, use_idf=False,\n",
    "                                stop_words='english', ngram_range=(1, 1), token_pattern=r'[a-zA-Z0-9+_]+',\n",
    "                                strip_accents='unicode')\n",
    "tf_vectorizer_matrix = tf_vectorizer.fit_transform(qualified_movies_df['all_metadata'])\n",
    "\n",
    "tfidf_vectorizer = TfidfVectorizer(analyzer='word', lowercase=True,\n",
    "                                   stop_words='english', ngram_range=(1, 1), token_pattern=r'[a-zA-Z0-9+_]+',\n",
    "                                   strip_accents='unicode')\n",
    "tfidf_vectorizer_matrix = tfidf_vectorizer.fit_transform(qualified_movies_df['all_metadata'])"
   ]
  },
  {
   "cell_type": "markdown",
   "metadata": {},
   "source": [
    "## Save matrices that we will need to evaluate with"
   ]
  },
  {
   "cell_type": "code",
   "execution_count": 3,
   "metadata": {},
   "outputs": [],
   "source": [
    "import pickle\n",
    "\n",
    "with open('.\\\\serialized_objects\\\\user_based\\\\tf_vectorizer_matrix.pkl', 'wb') as f:\n",
    "    pickle.dump(tf_vectorizer_matrix, f)\n",
    "    \n",
    "with open('.\\\\serialized_objects\\\\user_based\\\\tfidf_vectorizer_matrix.pkl', 'wb') as f:\n",
    "    pickle.dump(tfidf_vectorizer_matrix, f)"
   ]
  },
  {
   "cell_type": "markdown",
   "metadata": {},
   "source": [
    "## Evaluate system accuracy/precision"
   ]
  },
  {
   "cell_type": "code",
   "execution_count": 3,
   "metadata": {},
   "outputs": [],
   "source": [
    "from datetime import datetime\n",
    "from utils.database_operations import DatabaseOperations\n",
    "\n",
    "\"\"\"create db operations object\"\"\"\n",
    "db_operations = DatabaseOperations()"
   ]
  },
  {
   "cell_type": "code",
   "execution_count": 4,
   "metadata": {},
   "outputs": [],
   "source": [
    "\"\"\"VARIABLES\"\"\"\n",
    "\n",
    "\"\"\"Minimum and maximum ratings count for user to use him\"\"\"\n",
    "min_ratings_threshold = 20\n",
    "max_ratings_threshold = 100\n",
    "\n",
    "list_of_percentage_accuracy = []\n",
    "list_of_percentage_precision = []\n",
    "count_passed_users = 0\n",
    "\n",
    "start_time = datetime.now()"
   ]
  },
  {
   "cell_type": "code",
   "execution_count": 5,
   "metadata": {
    "collapsed": true
   },
   "outputs": [
    {
     "name": "stdout",
     "output_type": "stream",
     "text": [
      "Average percentage accuracy for 40 users: 0.8995312500000001\nAverage percentage precision for 40 users: 0.16066535572562363\nTime passed: 0:00:08.036189\n-----------------------------------------------\n"
     ]
    },
    {
     "name": "stdout",
     "output_type": "stream",
     "text": [
      "Average percentage accuracy for 82 users: 0.8885503472222223\nAverage percentage precision for 82 users: 0.17041268660241876\nTime passed: 0:00:16.036429\n-----------------------------------------------\n"
     ]
    },
    {
     "name": "stdout",
     "output_type": "stream",
     "text": [
      "Average percentage accuracy for 113 users: 0.8861566924066925\nAverage percentage precision for 113 users: 0.16223130443368547\nTime passed: 0:00:22.846123\n-----------------------------------------------\n"
     ]
    }
   ],
   "source": [
    "from utils.recommendation_handler_external_user import RecommendationHandlerExternalUser\n",
    "\n",
    "for i in range(1, 270000):\n",
    "    movie_ids_ratings = db_operations.get_movies_ids_ratings_by_user_id(user_id=i)\n",
    "    if min_ratings_threshold < len(movie_ids_ratings) < max_ratings_threshold:\n",
    "\n",
    "        \"\"\"Create object from class\"\"\"\n",
    "        rec_handler = RecommendationHandlerExternalUser(external_users_ratings=movie_ids_ratings)\n",
    "        count_passed_users += 1\n",
    "        \"\"\"call evaluate method\"\"\"\n",
    "        accuracy_percentage, precision_percentage = rec_handler.evaluate_system()\n",
    "        if accuracy_percentage and precision_percentage:\n",
    "            list_of_percentage_accuracy.append(accuracy_percentage)\n",
    "            list_of_percentage_precision.append(precision_percentage)\n",
    "\n",
    "    \"\"\"print every 100 iterations\"\"\"\n",
    "    if i % 100 == 0 and len(list_of_percentage_accuracy) > 0:\n",
    "        print('Average percentage accuracy for {} users: {}'.format(count_passed_users,\n",
    "                                                                    sum(list_of_percentage_accuracy) / len(\n",
    "                                                                        list_of_percentage_accuracy)))\n",
    "        print('Average percentage precision for {} users: {}'.format(count_passed_users,\n",
    "                                                                     sum(list_of_percentage_precision) / len(\n",
    "                                                                         list_of_percentage_precision)))\n",
    "        print('Time passed: {}'.format(datetime.now() - start_time))\n",
    "        print('-----------------------------------------------')\n",
    "\n",
    "db_operations.close_session()"
   ]
  },
  {
   "cell_type": "code",
   "execution_count": null,
   "metadata": {},
   "outputs": [],
   "source": []
  }
 ],
 "metadata": {
  "kernelspec": {
   "display_name": "Python 2",
   "language": "python",
   "name": "python2"
  },
  "language_info": {
   "codemirror_mode": {
    "name": "ipython",
    "version": 2
   },
   "file_extension": ".py",
   "mimetype": "text/x-python",
   "name": "python",
   "nbconvert_exporter": "python",
   "pygments_lexer": "ipython2",
   "version": "2.7.6"
  }
 },
 "nbformat": 4,
 "nbformat_minor": 0
}
