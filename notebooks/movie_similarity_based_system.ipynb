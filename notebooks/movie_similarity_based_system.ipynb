{
 "cells": [
  {
   "cell_type": "markdown",
   "metadata": {},
   "source": [
    "## Load processed metadata combined csv so we can start creating the system"
   ]
  },
  {
   "cell_type": "code",
   "execution_count": 9,
   "metadata": {
    "collapsed": true
   },
   "outputs": [],
   "source": [
    "import pandas as pd\n",
    "\n",
    "qualified_movies_df = pd.read_csv('.\\\\data\\\\processed_movies\\\\qualified_all_metadata.csv')"
   ]
  },
  {
   "cell_type": "markdown",
   "metadata": {},
   "source": [
    "## Define methods for getting recommendations and saving the results to CSVs"
   ]
  },
  {
   "cell_type": "code",
   "execution_count": 10,
   "metadata": {},
   "outputs": [],
   "source": [
    "from operator import itemgetter\n",
    "import os\n",
    "import pandas as pd\n",
    "\n",
    "pd.options.mode.chained_assignment = None\n",
    "\n",
    "dict_of_movie_id_index = dict(zip(list(qualified_movies_df['movie_id']), list(qualified_movies_df.index)))\n",
    "\n",
    "\"\"\"Here the function is like this because we are testing, in production we will calculate just the \n",
    "movie vector with the count vectorizer matrix\"\"\"\n",
    "\n",
    "\n",
    "def get_recommendations(similarity_matrix, movie_id, top_n=50):\n",
    "    movie_idx = dict_of_movie_id_index[movie_id]\n",
    "    sim_scores = list(enumerate(similarity_matrix[movie_idx]))\n",
    "    sim_scores = sorted(sim_scores, key=itemgetter(1), reverse=True)\n",
    "    sim_scores = sim_scores[0:top_n + 1]\n",
    "    movie_indices = [i[0] for i in sim_scores]\n",
    "    return qualified_movies_df.iloc[movie_indices], sim_scores\n",
    "\n",
    "\n",
    "def save_recommendations(movie_id, df_to_save, top_n, replace=False, recommendation_type=''):\n",
    "    print(df_to_save[['title']])\n",
    "    movie_title = df_to_save.loc[df_to_save['movie_id'] == movie_id, 'title'].values[0]\n",
    "\n",
    "    dir_to_save_csv = '.\\\\data\\\\recommendations\\\\{}_{}\\\\'.format(movie_id, movie_title.replace(':', ' '))\n",
    "    file_name = 'top_{}_{}.csv'.format(top_n, recommendation_type)\n",
    "\n",
    "    \"\"\"Create dir if doesnt exist\"\"\"\n",
    "    if not os.path.isdir(dir_to_save_csv):\n",
    "        os.makedirs(dir_to_save_csv)\n",
    "\n",
    "    if replace:\n",
    "        df_to_save.to_csv(dir_to_save_csv + file_name, index=False)\n",
    "        return 0\n",
    "    \"\"\"Check if file with this name exists\"\"\"\n",
    "    if os.path.isfile(dir_to_save_csv + file_name):\n",
    "        print('File {} already exist! Check wassup'.format(dir_to_save_csv + file_name))\n",
    "        return 1\n",
    "    else:\n",
    "        df_to_save.to_csv(dir_to_save_csv + file_name, index=False)\n",
    "        return 0\n",
    "\n",
    "\n",
    "def remove_0_from_dict_values_and_round(curr_dict):\n",
    "    return {k: round(v, 3) for k, v in curr_dict.items() if v != 0}\n",
    "\n",
    "\n",
    "def get_features_for_recommendation(list_of_recommended_movie_indices_sim_scores, vectorizer, vectorizer_matrix):\n",
    "    \"\"\"create dict with main movie words\"\"\"\n",
    "    main_movie_dict = list(map(lambda row: dict(zip(vectorizer.get_feature_names(), row)),\n",
    "                               vectorizer_matrix[list_of_recommended_movie_indices_sim_scores[0][0]].toarray()))[\n",
    "        0]\n",
    "\n",
    "    \"\"\"get only the movies indices\"\"\"\n",
    "    list_of_rec_movies_indices = [i[0] for i in list_of_recommended_movie_indices_sim_scores[1:]]\n",
    "\n",
    "    \"\"\"create list of dicts with recommended movies words\"\"\"\n",
    "    rec_movies_list_of_dicts = list(map(lambda row: dict(zip(vectorizer.get_feature_names(), row)),\n",
    "                                        vectorizer_matrix[list_of_rec_movies_indices].toarray()))\n",
    "\n",
    "    main_movie_dict = remove_0_from_dict_values_and_round(main_movie_dict)\n",
    "\n",
    "    list_of_result = [main_movie_dict]\n",
    "    for rec_dict in rec_movies_list_of_dicts:\n",
    "        rec_dict = remove_0_from_dict_values_and_round(rec_dict)\n",
    "        res_rec_dict = dict()\n",
    "        for word, count in main_movie_dict.items():\n",
    "            if word in rec_dict.keys():\n",
    "                res_rec_dict[word] = rec_dict[word]\n",
    "        list_of_result.append(res_rec_dict)\n",
    "\n",
    "    return list_of_result\n",
    "\n",
    "\n",
    "def format_data_before_saving_recommendations(recommendations_df, list_of_recommendation_features_dicts,\n",
    "                                              recommendation_movies_indices_sim_scores):\n",
    "    df = recommendations_df[\n",
    "        ['movie_id', 'title', 'release_year', 'vote_count', 'vote_average', 'popularity', 'genres']]\n",
    "\n",
    "    df['rec_features'] = list_of_recommendation_features_dicts\n",
    "\n",
    "    for item in recommendation_movies_indices_sim_scores:\n",
    "        df.loc[item[0], 'similarity_score'] = item[1]\n",
    "    return df\n",
    "\n",
    "\n",
    "def analyze_movies_from_directory(vectorizer, vectorizer_matrix, similarity_matrix, top_n, recommendation_type,\n",
    "                                  replace=False):\n",
    "    for movie_dir in os.listdir('C:\\\\PythonProjects\\\\MoviesRecommendationSystem-Production\\\\data\\\\recommendations\\\\'):\n",
    "        movie_id = int(movie_dir.split('_')[0])\n",
    "\n",
    "        \"\"\"get recommendations\"\"\"\n",
    "        recommendations_df, recommendation_movies_indices_sim_scores = get_recommendations(\n",
    "            similarity_matrix=similarity_matrix,\n",
    "            movie_id=movie_id,\n",
    "            top_n=top_n)\n",
    "\n",
    "        \"\"\"get features by witch it was recommended\"\"\"\n",
    "        list_of_recommendation_features_dicts = get_features_for_recommendation(vectorizer=vectorizer,\n",
    "                                                                                vectorizer_matrix=vectorizer_matrix,\n",
    "                                                                                list_of_recommended_movie_indices_sim_scores=\n",
    "                                                                                recommendation_movies_indices_sim_scores)\n",
    "\n",
    "        \"\"\"get df which is going to be saved\"\"\"\n",
    "        processed_rec_df = format_data_before_saving_recommendations(recommendations_df,\n",
    "                                                                     list_of_recommendation_features_dicts,\n",
    "                                                                     recommendation_movies_indices_sim_scores)\n",
    "\n",
    "        \"\"\"save df so i can analyze\"\"\"\n",
    "        save_recommendations(movie_id, processed_rec_df, top_n, replace, recommendation_type)\n",
    "\n",
    "        print('{} completed!'.format(movie_dir))\n"
   ]
  },
  {
   "cell_type": "markdown",
   "metadata": {},
   "source": [
    "## Count Vectorizer method"
   ]
  },
  {
   "cell_type": "code",
   "execution_count": 11,
   "metadata": {
    "collapsed": true
   },
   "outputs": [],
   "source": [
    "from sklearn.feature_extraction.text import CountVectorizer\n",
    "\n",
    "\"\"\"Regex to keep keywords and not separate them, like 'hotel room', is hotel+room,\n",
    "strip accents to unicode to make 'fiancé' to 'fiance' and make lowercase\"\"\"\n",
    "count_vectorizer = CountVectorizer(analyzer='word', lowercase=True,\n",
    "                                   stop_words='english', ngram_range=(1, 1), token_pattern=r'[a-zA-Z0-9+_]+',\n",
    "                                   strip_accents='unicode')\n",
    "count_vectorizer_matrix = count_vectorizer.fit_transform(qualified_movies_df['all_metadata'])"
   ]
  },
  {
   "cell_type": "code",
   "execution_count": 12,
   "metadata": {
    "collapsed": false
   },
   "outputs": [
    {
     "name": "stdout",
     "output_type": "stream",
     "text": [
      "Count Vectorizer - Cosine similarity matrix\n[[1.         0.05986843 0.05609927 ... 0.05296271 0.13340747 0.10567049]\n [0.05986843 1.         0.05205792 ... 0.09829464 0.06189845 0.06537205]\n [0.05609927 0.05205792 1.         ... 0.02302656 0.08700222 0.06125639]\n ...\n [0.05296271 0.09829464 0.02302656 ... 1.         0.13689642 0.14457873]\n [0.13340747 0.06189845 0.08700222 ... 0.13689642 1.         0.18208926]\n [0.10567049 0.06537205 0.06125639 ... 0.14457873 0.18208926 1.        ]]\n------------------------\nCount Vectorizer - Euclidean dot similarity matrix\n[[31.  2.  2. ...  2.  4.  3.]\n [ 2. 36.  2. ...  4.  2.  2.]\n [ 2.  2. 41. ...  1.  3.  2.]\n ...\n [ 2.  4.  1. ... 46.  5.  5.]\n [ 4.  2.  3. ...  5. 29.  5.]\n [ 3.  2.  2. ...  5.  5. 26.]]\n"
     ]
    }
   ],
   "source": [
    "from sklearn.metrics.pairwise import cosine_similarity, linear_kernel\n",
    "\n",
    "count_vect_sim_matrix_cos = cosine_similarity(count_vectorizer_matrix, count_vectorizer_matrix)\n",
    "count_vect_sim_matrix_dot = linear_kernel(count_vectorizer_matrix, count_vectorizer_matrix)\n",
    "\n",
    "print('Count Vectorizer - Cosine similarity matrix')\n",
    "print(count_vect_sim_matrix_cos)\n",
    "print('------------------------')\n",
    "print('Count Vectorizer - Euclidean dot similarity matrix')\n",
    "print(count_vect_sim_matrix_dot)"
   ]
  },
  {
   "cell_type": "markdown",
   "metadata": {},
   "source": [
    "## TF-IDF Vectorizer method"
   ]
  },
  {
   "cell_type": "code",
   "execution_count": 5,
   "metadata": {},
   "outputs": [],
   "source": [
    "from sklearn.feature_extraction.text import TfidfVectorizer\n",
    "\n",
    "\"\"\"Regex to keep keywords and not separate them, like 'hotel room', is hotel+room,\n",
    "strip accents to unicode to make 'fiancé' to 'fiance' and make lowercase\"\"\"\n",
    "tfidf_vectorizer = TfidfVectorizer(analyzer='word', lowercase=True,\n",
    "                                   stop_words='english', ngram_range=(1, 1), token_pattern=r'[a-zA-Z0-9+_]+',\n",
    "                                   strip_accents='unicode')\n",
    "tfidf_vectorizer_matrix = tfidf_vectorizer.fit_transform(qualified_movies_df['all_metadata'])"
   ]
  },
  {
   "cell_type": "code",
   "execution_count": 6,
   "metadata": {
    "collapsed": true
   },
   "outputs": [
    {
     "name": "stdout",
     "output_type": "stream",
     "text": [
      "TF-IDF - Cosine similarity matrix\n[[1.         0.00891925 0.02053735 ... 0.00438798 0.02985328 0.0145613 ]\n [0.00891925 1.         0.01084292 ... 0.05140639 0.00872399 0.00972063]\n [0.02053735 0.01084292 1.         ... 0.0035556  0.01472711 0.01209015]\n ...\n [0.00438798 0.05140639 0.0035556  ... 1.         0.02378984 0.03337236]\n [0.02985328 0.00872399 0.01472711 ... 0.02378984 1.         0.02424314]\n [0.0145613  0.00972063 0.01209015 ... 0.03337236 0.02424314 1.        ]]\n------------------------\nTF-IDF - Euclidean dot similarity matrix\n[[1.         0.00891925 0.02053735 ... 0.00438798 0.02985328 0.0145613 ]\n [0.00891925 1.         0.01084292 ... 0.05140639 0.00872399 0.00972063]\n [0.02053735 0.01084292 1.         ... 0.0035556  0.01472711 0.01209015]\n ...\n [0.00438798 0.05140639 0.0035556  ... 1.         0.02378984 0.03337236]\n [0.02985328 0.00872399 0.01472711 ... 0.02378984 1.         0.02424314]\n [0.0145613  0.00972063 0.01209015 ... 0.03337236 0.02424314 1.        ]]\n"
     ]
    }
   ],
   "source": [
    "from sklearn.metrics.pairwise import cosine_similarity, linear_kernel\n",
    "\n",
    "tfidf_vect_sim_matrix_cos = cosine_similarity(tfidf_vectorizer_matrix, tfidf_vectorizer_matrix)\n",
    "tfidf_vect_sim_matrix_dot = linear_kernel(tfidf_vectorizer_matrix, tfidf_vectorizer_matrix)\n",
    "\n",
    "print('TF-IDF - Cosine similarity matrix')\n",
    "print(tfidf_vect_sim_matrix_cos)\n",
    "print('------------------------')\n",
    "print('TF-IDF - Euclidean dot similarity matrix')\n",
    "print(tfidf_vect_sim_matrix_dot)"
   ]
  },
  {
   "cell_type": "markdown",
   "metadata": {},
   "source": [
    "## My own weighting method"
   ]
  },
  {
   "cell_type": "code",
   "execution_count": 7,
   "metadata": {
    "collapsed": true
   },
   "outputs": [],
   "source": [
    "qualified_movies_df.fillna('', inplace=True)"
   ]
  },
  {
   "cell_type": "code",
   "execution_count": 11,
   "metadata": {
    "collapsed": true
   },
   "outputs": [
    {
     "name": "stdout",
     "output_type": "stream",
     "text": [
      "Keywords mean:  21.880231639905237\nActors mean:  2.979029569184873\nProducers mean:  1.8540844081775907\nDirectors mean:  1.0951127489690269\nScreenplays mean:  0.9548126700008774\nGenres mean:  2.497060629990348\nComposers mean:  1.0715977888918136\n"
     ]
    }
   ],
   "source": [
    "\"\"\"Calculate mean values of all attributes\"\"\"\n",
    "count_keywords = 0\n",
    "count_actors = 0\n",
    "count_directors = 0\n",
    "count_producers = 0\n",
    "count_screenplays = 0\n",
    "count_composers = 0\n",
    "count_genres = 0\n",
    "\n",
    "for index, row in qualified_movies_df.iterrows():\n",
    "    count_keywords += len(row['preprocessed_keywords'].split())\n",
    "    count_actors += len(row['processed_actors'].split())\n",
    "    count_directors += len(row['processed_directors'].split())\n",
    "    count_producers += len(row['processed_producers'].split())\n",
    "    count_screenplays += len(row['processed_screenplays'].split())\n",
    "    count_genres += len(row['processed_genres'].split())\n",
    "    count_composers += len(row['processed_composers'].split())\n",
    "    \n",
    "keywords_mean = count_keywords/len(qualified_movies_df)\n",
    "actors_mean = count_actors/len(qualified_movies_df)\n",
    "producers_mean = count_producers/len(qualified_movies_df)\n",
    "directors_mean = count_directors/len(qualified_movies_df)\n",
    "screenplays_mean = count_screenplays/len(qualified_movies_df)\n",
    "genres_mean = count_genres/len(qualified_movies_df)\n",
    "composers_mean = count_composers/len(qualified_movies_df)\n",
    "\n",
    "print(\"Keywords mean: \", keywords_mean)\n",
    "print('Actors mean: ', actors_mean)\n",
    "print('Producers mean: ', producers_mean)\n",
    "print('Directors mean: ', directors_mean)\n",
    "print('Screenplays mean: ', screenplays_mean)\n",
    "print('Genres mean: ', genres_mean)\n",
    "print('Composers mean: ', composers_mean)"
   ]
  },
  {
   "cell_type": "code",
   "execution_count": 16,
   "metadata": {},
   "outputs": [],
   "source": [
    "\"\"\"Create weights for different categories of attributes\"\"\"\n",
    "\n",
    "list_of_movie_dicts = []\n",
    "for index, row in qualified_movies_df.iterrows():\n",
    "        \n",
    "    list_of_actors = row['processed_actors'].split()\n",
    "    list_of_producers = row['processed_producers'].split()\n",
    "    list_of_directors = row['processed_directors'].split()\n",
    "    list_of_eras = row['processed_eras'].split()\n",
    "    list_of_runtime = row['processed_runtime'].split()\n",
    "    list_of_composers = row['processed_composers'].split()\n",
    "    list_of_genres = row['processed_genres'].split()\n",
    "    list_of_keywords = row['preprocessed_keywords'].split()\n",
    "    list_of_screenplays = row['processed_screenplays'].split()\n",
    "    \n",
    "    \n",
    "    num_to_substract = 1\n",
    "    \n",
    "    dict_of_movie_metadata = dict()\n",
    "    for item in list_of_actors:\n",
    "        dict_of_movie_metadata[item] = 2*actors_mean/len(list_of_actors)\n",
    "        \n",
    "    for item in list_of_producers:\n",
    "        dict_of_movie_metadata[item] = producers_mean/len(list_of_producers)\n",
    "        \n",
    "    for item in list_of_directors:\n",
    "        dict_of_movie_metadata[item] = 2*directors_mean/len(list_of_directors)\n",
    "        \n",
    "    for item in list_of_eras:\n",
    "        dict_of_movie_metadata[item] = 2/len(list_of_eras)\n",
    "        \n",
    "    for item in list_of_runtime:\n",
    "        dict_of_movie_metadata[item] = 1/len(list_of_runtime)\n",
    "        \n",
    "    for item in list_of_genres:\n",
    "        dict_of_movie_metadata[item] = 2*genres_mean/len(list_of_genres)\n",
    "        \n",
    "    for item in list_of_keywords:\n",
    "        dict_of_movie_metadata[item] = 3*keywords_mean/len(list_of_keywords)\n",
    "        \n",
    "    for item in list_of_screenplays:\n",
    "        dict_of_movie_metadata[item] = screenplays_mean/len(list_of_screenplays)\n",
    "        \n",
    "    for item in list_of_composers:\n",
    "        dict_of_movie_metadata[item] = composers_mean/len(list_of_composers)\n",
    "        \n",
    "    list_of_movie_dicts.append(dict_of_movie_metadata)"
   ]
  },
  {
   "cell_type": "code",
   "execution_count": 34,
   "metadata": {
    "collapsed": true
   },
   "outputs": [
    {
     "data": {
      "text/plain": [
       "{'+commit+': 5.209578961882199,\n '+country+': 5.209578961882199,\n '+crime+': 5.209578961882199,\n '+dream+': 5.209578961882199,\n '+escape+': 5.209578961882199,\n '+father+': 5.209578961882199,\n '+frame+': 5.209578961882199,\n '+helsinki+': 5.209578961882199,\n '+jail+': 5.209578961882199,\n '+leave+': 5.209578961882199,\n '+life+': 5.209578961882199,\n '+miner+': 5.209578961882199,\n '+plan+': 5.209578961882199,\n '+prison+': 5.209578961882199,\n '+start+': 5.209578961882199,\n '+thing+': 5.209578961882199,\n '+underdog+': 5.209578961882199,\n '1980_to_1990': 2.0,\n 'actorMattiPellonpää': 1.9860197127899155,\n 'actorSusannaHaavisto': 1.9860197127899155,\n 'actorTuroPajala': 1.9860197127899155,\n 'committed+suicide': 5.209578961882199,\n 'directorAkiKaurismäki': 2.1902254979380538,\n 'factory+worker': 5.209578961882199,\n 'falling+in+love': 5.209578961882199,\n 'genreCrime': 3.7455909449855223,\n 'genreDrama': 3.7455909449855223,\n 'independent+film': 5.209578961882199,\n 'no_composer_available': 1.0715977888918136,\n 'runtime_under_100': 1.0,\n 'screenplayAkiKaurismäki': 0.9548126700008774}"
      ]
     },
     "execution_count": 34,
     "metadata": {},
     "output_type": "execute_result"
    }
   ],
   "source": [
    "list_of_movie_dicts[0]"
   ]
  },
  {
   "cell_type": "code",
   "execution_count": 17,
   "metadata": {},
   "outputs": [],
   "source": [
    "from sklearn.feature_extraction import DictVectorizer\n",
    "\n",
    "own_weighting_vectorizer = DictVectorizer()\n",
    "own_weighting_vectorizer_matrix = own_weighting_vectorizer.fit_transform(list_of_movie_dicts)"
   ]
  },
  {
   "cell_type": "code",
   "execution_count": 18,
   "metadata": {
    "collapsed": true
   },
   "outputs": [
    {
     "name": "stdout",
     "output_type": "stream",
     "text": [
      "Own Weighting - Cosine similarity matrix\n[[1.         0.03064765 0.05329825 ... 0.01030581 0.07091    0.02341786]\n [0.03064765 1.         0.0395682  ... 0.08245494 0.01954212 0.01957936]\n [0.05329825 0.0395682  1.         ... 0.0456733  0.03529403 0.02357419]\n ...\n [0.01030581 0.08245494 0.0456733  ... 1.         0.09708869 0.09727369]\n [0.07091    0.01954212 0.03529403 ... 0.09708869 1.         0.03884534]\n [0.02341786 0.01957936 0.02357419 ... 0.09727369 0.03884534 1.        ]]\n"
     ]
    }
   ],
   "source": [
    "from sklearn.metrics.pairwise import cosine_similarity\n",
    "\n",
    "own_weighting_sim_matrix_cos = cosine_similarity(own_weighting_vectorizer_matrix, own_weighting_vectorizer_matrix)\n",
    "\n",
    "print('Own Weighting - Cosine similarity matrix')\n",
    "print(own_weighting_sim_matrix_cos)"
   ]
  },
  {
   "cell_type": "markdown",
   "metadata": {},
   "source": [
    "## Test different methods"
   ]
  },
  {
   "cell_type": "code",
   "execution_count": 9,
   "metadata": {
    "collapsed": true
   },
   "outputs": [
    {
     "name": "stdout",
     "output_type": "stream",
     "text": [
      "                                              title\n3                                         Star Wars\n990                         The Empire Strikes Back\n9165                   Star Wars: The Force Awakens\n992       Star Wars: Episode I - The Phantom Menace\n994    Star Wars: Episode III - Revenge of the Sith\n991                              Return of the Jedi\n993    Star Wars: Episode II - Attack of the Clones\n8396                  The Star Wars Holiday Special\n586                                           Krull\n10754                  Rogue One: A Star Wars Story\n1010                                       Superman\n11_Star Wars completed!\n"
     ]
    },
    {
     "name": "stdout",
     "output_type": "stream",
     "text": [
      "                                                   title\n76     The Lord of the Rings: The Fellowship of the Ring\n77                 The Lord of the Rings: The Two Towers\n78         The Lord of the Rings: The Return of the King\n8009                 The Hobbit: The Desolation of Smaug\n7784                   The Hobbit: An Unexpected Journey\n9006           The Hobbit: The Battle of the Five Armies\n79                                 The Lord of the Rings\n10315                                     Doctor Strange\n5119                                          Snow Queen\n4500                                              Exiled\n1891                                    The Lovely Bones\n120_The Lord of the Rings  The Fellowship of the Ring completed!\n"
     ]
    },
    {
     "name": "stdout",
     "output_type": "stream",
     "text": [
      "                                                   title\n79                                 The Lord of the Rings\n77                 The Lord of the Rings: The Two Towers\n8009                 The Hobbit: The Desolation of Smaug\n76     The Lord of the Rings: The Fellowship of the Ring\n9006           The Hobbit: The Battle of the Five Armies\n7784                   The Hobbit: An Unexpected Journey\n2269                                        Fitzcarraldo\n5737                                 Time of the Gypsies\n10298        Miss Peregrine's Home for Peculiar Children\n112                        Star Trek IV: The Voyage Home\n80                                     Princess Mononoke\n123_The Lord of the Rings completed!\n"
     ]
    },
    {
     "name": "stdout",
     "output_type": "stream",
     "text": [
      "                       title\n4226               Eagle Eye\n835    Live Free or Die Hard\n1851                 Shooter\n4600                 Ghajini\n124          Minority Report\n10403       Now You See Me 2\n1076                 Hostage\n43                Miami Vice\n2600                The Rock\n4184        Cold Creek Manor\n8416          Now You See Me\n13027_Eagle Eye completed!\n"
     ]
    },
    {
     "name": "stdout",
     "output_type": "stream",
     "text": [
      "                                title\n5                        Forrest Gump\n6256         The Mirror Has Two Faces\n849       What's Eating Gilbert Grape\n3003                 Corrina, Corrina\n10386                Miss You Already\n4008              Defending Your Life\n10755                      The Choice\n7598                    Twelfth Night\n9815   Goliyon Ki Raasleela Ram-Leela\n2320               Great Expectations\n2598                     Philadelphia\n13_Forrest Gump completed!\n"
     ]
    },
    {
     "name": "stdout",
     "output_type": "stream",
     "text": [
      "                                 title\n9262                      Interstellar\n10225                       Passengers\n607                 Planet of the Apes\n10340                      The Martian\n24               2001: A Space Odyssey\n10114                         Automata\n8723   Transformers: Age of Extinction\n8963    Dawn of the Planet of the Apes\n8411                          Oblivion\n6481                         Inception\n7796                      Man of Steel\n157336_Interstellar completed!\n"
     ]
    },
    {
     "name": "stdout",
     "output_type": "stream",
     "text": [
      "                       title\n5159                Serenity\n133   Star Trek: Generations\n9263               Divergent\n4849  Screamers: The Hunting\n605       Planet of the Apes\n3516               Meet Dave\n7455                  TEKKEN\n140       Star Trek: Nemesis\n5700                Pandorum\n6432           Ghost Machine\n927      The Incredible Hulk\n16320_Serenity completed!\n"
     ]
    },
    {
     "name": "stdout",
     "output_type": "stream",
     "text": [
      "                          title\n898    The Hunt for Red October\n2634              Patriot Games\n1523       The Sum of All Fears\n498         Tomorrow Never Dies\n9131  Jack Ryan: Shadow Recruit\n2831           The Russia House\n2260   Clear and Present Danger\n1248             The Specialist\n9313              A Single Shot\n1747               The Marksman\n3271                 Switchback\n1669_The Hunt for Red October completed!\n"
     ]
    },
    {
     "name": "stdout",
     "output_type": "stream",
     "text": [
      "                               title\n5304           The Battle of Algiers\n7476                           Burn!\n6782                        Uprising\n136                       Braveheart\n1626  Salò, or the 120 Days of Sodom\n4399             Battle of the Bulge\n2501                         Flyboys\n1068                   Days of Glory\n5235          The Heroes of Telemark\n4390                Intimate Enemies\n2161                         Serpico\n17295_The Battle of Algiers completed!\n"
     ]
    },
    {
     "name": "stdout",
     "output_type": "stream",
     "text": [
      "                                  title\n1025                             Zodiac\n2438                         Blood Work\n6249          Beyond a Reasonable Doubt\n3805                          Tightrope\n10472  Next Time I'll Aim for the Heart\n6437               The Boston Strangler\n5501                           Horsemen\n3219                              Basic\n5616                         Even Money\n724                     Hannibal Rising\n7485          The Night of the Generals\n1949_Zodiac completed!\n"
     ]
    },
    {
     "name": "stdout",
     "output_type": "stream",
     "text": [
      "                           title\n1086                    I, Robot\n5713                  Surrogates\n10114                   Automata\n404       The Matrix Revolutions\n124              Minority Report\n4770                Natural City\n348         Terminator Salvation\n1294   The Chronicles of Riddick\n403          The Matrix Reloaded\n1558                      Zardoz\n4603      Ghost in the Shell 2.0\n2048_I, Robot completed!\n"
     ]
    },
    {
     "name": "stdout",
     "output_type": "stream",
     "text": [
      "                                     title\n6164                          The Avengers\n8793               Avengers: Age of Ultron\n8797   Captain America: The Winter Soldier\n10190           Captain America: Civil War\n8248                            Iron Man 3\n8953               Guardians of the Galaxy\n10315                       Doctor Strange\n2803                            Iron Man 2\n937     Captain America: The First Avenger\n8818                               Ant-Man\n10314       Guardians of the Galaxy Vol. 2\n24428_The Avengers completed!\n"
     ]
    },
    {
     "name": "stdout",
     "output_type": "stream",
     "text": [
      "                      title\n186   Cat on a Hot Tin Roof\n5949           Elmer Gantry\n444           Belle de Jour\n6091          BUtterfield 8\n871           Jules and Jim\n297       Leaving Las Vegas\n1475        Shall We Dance?\n4101                Avanti!\n7359   The Long, Hot Summer\n7478                Petulia\n7846          Anna Karenina\n261_Cat on a Hot Tin Roof completed!\n"
     ]
    },
    {
     "name": "stdout",
     "output_type": "stream",
     "text": [
      "                         title\n6481                 Inception\n7796              Man of Steel\n7984              Elektra Luxx\n8093                    Looper\n3271                Switchback\n11034  They Call Me Jeeg Robot\n8092                 Abduction\n714               The Prestige\n10243              Descendants\n7780     The Dark Knight Rises\n8277                    Dragon\n27205_Inception completed!\n"
     ]
    },
    {
     "name": "stdout",
     "output_type": "stream",
     "text": [
      "                        title\n199                   Amadeus\n8164               Noah's Ark\n9950          Beloved Sisters\n9526  Jimi: All Is by My Side\n4482              Purple Rain\n7706        Hilary and Jackie\n7901             Love Streams\n1487           Les Misérables\n3324                Farinelli\n7194  Looking for Mr. Goodbar\n9488               Black Rain\n279_Amadeus completed!\n"
     ]
    },
    {
     "name": "stdout",
     "output_type": "stream",
     "text": [
      "                         title\n10340              The Martian\n11038     The Space Between Us\n7950                      Love\n8953   Guardians of the Galaxy\n9038           Alien: Covenant\n3516                 Meet Dave\n8149               Melancholia\n9262              Interstellar\n8302                Prometheus\n9206    Exodus: Gods and Kings\n5159                  Serenity\n286217_The Martian completed!\n"
     ]
    },
    {
     "name": "stdout",
     "output_type": "stream",
     "text": [
      "                      title\n7780  The Dark Knight Rises\n100         The Dark Knight\n193           Batman Begins\n3777              Following\n714            The Prestige\n7036               Defendor\n8277                 Dragon\n190                  Batman\n278          Batman & Robin\n6481              Inception\n7796           Man of Steel\n49026_The Dark Knight Rises completed!\n"
     ]
    },
    {
     "name": "stdout",
     "output_type": "stream",
     "text": [
      "                           title\n1565  10 Things I Hate About You\n7248                 The Cyclone\n9151                     Don Jon\n4716            Birds of America\n8353                 Teen Spirit\n8635               Save the Date\n3755                Show Me Love\n5142        Career Opportunities\n2612                  The Mighty\n1434                Benny & Joon\n6901         Two Girls and a Guy\n4951_10 Things I Hate About You completed!\n"
     ]
    },
    {
     "name": "stdout",
     "output_type": "stream",
     "text": [
      "                             title\n333                  Love Actually\n430          Bridget Jones's Diary\n10153     The Theory of Everything\n926     Captain Corelli's Mandolin\n1470             Pride & Prejudice\n1469                     Atonement\n952        The Rules of Attraction\n4601           Rab Ne Bana Di Jodi\n4817                Dil Chahta Hai\n496    Four Weddings and a Funeral\n6167          Holiday in Handcuffs\n508_Love Actually completed!\n"
     ]
    },
    {
     "name": "stdout",
     "output_type": "stream",
     "text": [
      "                       title\n402               The Matrix\n404   The Matrix Revolutions\n403      The Matrix Reloaded\n8455       Jupiter Ascending\n2256      Ghost in the Shell\n348     Terminator Salvation\n1848             Speed Racer\n1932                Æon Flux\n9442              The Colony\n579                     Dune\n39              Blade Runner\n603_The Matrix completed!\n"
     ]
    },
    {
     "name": "stdout",
     "output_type": "stream",
     "text": [
      "                              title\n412       The Passion of the Christ\n1208   The Greatest Story Ever Told\n3394  The Last Temptation of Christ\n3574      The Count of Monte Cristo\n7104              Wuthering Heights\n4414                            Max\n5020                      Paparazzi\n4461               Peaceful Warrior\n1302                    The Apostle\n5578                        Stander\n842                      Apocalypto\n615_The Passion of the Christ completed!\n"
     ]
    },
    {
     "name": "stdout",
     "output_type": "stream",
     "text": [
      "                                title\n8326                      World War Z\n10831                           Viral\n10846                      Extinction\n10040          Escobar: Paradise Lost\n11265         What Happened to Monday\n8963   Dawn of the Planet of the Apes\n8277                           Dragon\n9381                       Kokowaah 2\n9984              The World of Kanako\n10731         Approaching the Unknown\n10986                     War Machine\n72190_World War Z completed!\n"
     ]
    },
    {
     "name": "stdout",
     "output_type": "stream",
     "text": [
      "                  title\n8416     Now You See Me\n10403  Now You See Me 2\n10513         The Trust\n7622            Dhoom 3\n9191              RED 2\n7878          Fast Five\n11209        Wind River\n11003         Marauders\n211    Ocean's Thirteen\n1867            Déjà Vu\n1471        The Kingdom\n75656_Now You See Me completed!\n"
     ]
    },
    {
     "name": "stdout",
     "output_type": "stream",
     "text": [
      "                   title\n551                Se7en\n1025              Zodiac\n3805           Tightrope\n3410   Striking Distance\n2339      Kiss the Girls\n2482      The Negotiator\n2354       The Corruptor\n2438          Blood Work\n3610  Memories of Murder\n2375  The Bone Collector\n3415        Taking Lives\n807_Se7en completed!\n"
     ]
    },
    {
     "name": "stdout",
     "output_type": "stream",
     "text": [
      "                                       title\n1983                                Superbad\n7937                             Wild Cherry\n5399                     Sex, Party and Lies\n2635               Forgetting Sarah Marshall\n10198                             Trainwreck\n1572                              Knocked Up\n1790                  The 40 Year Old Virgin\n3566                     The Upside of Anger\n5846                             She Hate Me\n4817                          Dil Chahta Hai\n2582   The Sisterhood of the Traveling Pants\n8363_Superbad completed!\n"
     ]
    },
    {
     "name": "stdout",
     "output_type": "stream",
     "text": [
      "                      title\n8608            On the Road\n9949        The Dark Valley\n10398      The Sea of Trees\n8895   Hemingway & Gellhorn\n11150              Eternity\n9938   Clouds of Sils Maria\n223               Snow Cake\n2444                 Convoy\n11038  The Space Between Us\n9923      God Help the Girl\n8078                The Way\n83770_On the Road completed!\n"
     ]
    },
    {
     "name": "stdout",
     "output_type": "stream",
     "text": [
      "                                   title\n662                  Mission: Impossible\n663               Mission: Impossible II\n664              Mission: Impossible III\n9435  Mission: Impossible - Rogue Nation\n3193                        Toy Soldiers\n3781                           Get Smart\n1567                           Drop Zone\n441                               Dr. No\n9191                               RED 2\n1473                        Triple Cross\n3832                       U.S. Marshals\n954_Mission  Impossible completed!\n"
     ]
    },
    {
     "name": "stdout",
     "output_type": "stream",
     "text": [
      "                                      title\n2597               The Fast and the Furious\n4498                         Fast & Furious\n384                        2 Fast 2 Furious\n8598                       Fast & Furious 6\n1553                              Dark Blue\n2471  The Fast and the Furious: Tokyo Drift\n2206                               S.W.A.T.\n7878                              Fast Five\n4343                               Tortured\n5306                          Urban Justice\n1078                           Training Day\n9799_The Fast and the Furious completed!\n"
     ]
    },
    {
     "name": "stdout",
     "output_type": "stream",
     "text": [
      "                                             title\n55                                       Gladiator\n5588                                        Attila\n6904                                     Spartacus\n994   Star Wars: Episode III - Revenge of the Sith\n6661                             Nicholas Nickleby\n842                                     Apocalypto\n2422                       House of Flying Daggers\n591                                Black Hawk Down\n1527                                  The Guardian\n2532                               The Last Legion\n4382                                     Alatriste\n98_Gladiator completed!\n"
     ]
    },
    {
     "name": "stdout",
     "output_type": "stream",
     "text": [
      "                                              title\n3                                         Star Wars\n990                         The Empire Strikes Back\n994    Star Wars: Episode III - Revenge of the Sith\n991                              Return of the Jedi\n993    Star Wars: Episode II - Attack of the Clones\n992       Star Wars: Episode I - The Phantom Menace\n9165                   Star Wars: The Force Awakens\n10754                  Rogue One: A Star Wars Story\n112                   Star Trek IV: The Voyage Home\n1010                                       Superman\n8396                  The Star Wars Holiday Special\n11_Star Wars completed!\n"
     ]
    },
    {
     "name": "stdout",
     "output_type": "stream",
     "text": [
      "                                                  title\n76    The Lord of the Rings: The Fellowship of the Ring\n77                The Lord of the Rings: The Two Towers\n78        The Lord of the Rings: The Return of the King\n7784                  The Hobbit: An Unexpected Journey\n9006          The Hobbit: The Battle of the Five Armies\n8009                The Hobbit: The Desolation of Smaug\n79                                The Lord of the Rings\n1891                                   The Lovely Bones\n8256                                           Warcraft\n362                                        Spider-Man 2\n410                                            Downfall\n120_The Lord of the Rings  The Fellowship of the Ring completed!\n"
     ]
    },
    {
     "name": "stdout",
     "output_type": "stream",
     "text": [
      "                                                  title\n79                                The Lord of the Rings\n76    The Lord of the Rings: The Fellowship of the Ring\n77                The Lord of the Rings: The Two Towers\n7784                  The Hobbit: An Unexpected Journey\n8009                The Hobbit: The Desolation of Smaug\n9006          The Hobbit: The Battle of the Five Armies\n112                       Star Trek IV: The Voyage Home\n42                   Nausicaä of the Valley of the Wind\n78        The Lord of the Rings: The Return of the King\n80                                    Princess Mononoke\n257                                            Das Boot\n123_The Lord of the Rings completed!\n"
     ]
    },
    {
     "name": "stdout",
     "output_type": "stream",
     "text": [
      "                       title\n4226               Eagle Eye\n835    Live Free or Die Hard\n124          Minority Report\n1851                 Shooter\n10403       Now You See Me 2\n535         Mr. & Mrs. Smith\n883                  The Net\n1076                 Hostage\n1221     The Bourne Identity\n1223    The Bourne Ultimatum\n2063       Conspiracy Theory\n13027_Eagle Eye completed!\n"
     ]
    },
    {
     "name": "stdout",
     "output_type": "stream",
     "text": [
      "                             title\n5                     Forrest Gump\n3003              Corrina, Corrina\n3348                     The Lover\n3357                   Wonder Boys\n3913                  In Her Shoes\n6256      The Mirror Has Two Faces\n7779            Something Borrowed\n10444                Me Before You\n396                        Titanic\n474                        Contact\n496    Four Weddings and a Funeral\n13_Forrest Gump completed!\n"
     ]
    },
    {
     "name": "stdout",
     "output_type": "stream",
     "text": [
      "                                 title\n9262                      Interstellar\n10225                       Passengers\n607                 Planet of the Apes\n10340                      The Martian\n370                          Apollo 13\n440       A.I. Artificial Intelligence\n8411                          Oblivion\n8723   Transformers: Age of Extinction\n9038                   Alien: Covenant\n24               2001: A Space Odyssey\n404             The Matrix Revolutions\n157336_Interstellar completed!\n"
     ]
    },
    {
     "name": "stdout",
     "output_type": "stream",
     "text": [
      "                              title\n5159                       Serenity\n140              Star Trek: Nemesis\n8438             Mad Max: Fury Road\n112   Star Trek IV: The Voyage Home\n133          Star Trek: Generations\n248                           Alien\n401                Independence Day\n403             The Matrix Reloaded\n605              Planet of the Apes\n927             The Incredible Hulk\n3516                      Meet Dave\n16320_Serenity completed!\n"
     ]
    },
    {
     "name": "stdout",
     "output_type": "stream",
     "text": [
      "                          title\n898    The Hunt for Red October\n1523       The Sum of All Fears\n498         Tomorrow Never Dies\n2260   Clear and Present Danger\n9131  Jack Ryan: Shadow Recruit\n2                Judgment Night\n366           Starship Troopers\n460         You Only Live Twice\n478        The Spy Who Loved Me\n645                    Godzilla\n662         Mission: Impossible\n1669_The Hunt for Red October completed!\n"
     ]
    },
    {
     "name": "stdout",
     "output_type": "stream",
     "text": [
      "                                title\n5304            The Battle of Algiers\n136                        Braveheart\n7476                            Burn!\n532                            Gandhi\n1626   Salò, or the 120 Days of Sodom\n4399              Battle of the Bulge\n335   One Flew Over the Cuckoo's Nest\n397                       City of God\n567      The Bridge on the River Kwai\n623               Birdman of Alcatraz\n656                Lawrence of Arabia\n17295_The Battle of Algiers completed!\n"
     ]
    },
    {
     "name": "stdout",
     "output_type": "stream",
     "text": [
      "                                  title\n1025                             Zodiac\n551                               Se7en\n3610                 Memories of Murder\n5234    The Case of the Scorpion's Tail\n3805                          Tightrope\n6437               The Boston Strangler\n8214    The Girl with the Dragon Tattoo\n10472  Next Time I'll Aim for the Heart\n620             All the President's Men\n724                     Hannibal Rising\n1537                     Gone Baby Gone\n1949_Zodiac completed!\n"
     ]
    },
    {
     "name": "stdout",
     "output_type": "stream",
     "text": [
      "                                   title\n1086                            I, Robot\n403                  The Matrix Reloaded\n404               The Matrix Revolutions\n124                      Minority Report\n209   Terminator 3: Rise of the Machines\n348                 Terminator Salvation\n4274                            Watchmen\n4770                        Natural City\n5713                          Surrogates\n8251                         Pacific Rim\n8804     The Hunger Games: Catching Fire\n2048_I, Robot completed!\n"
     ]
    },
    {
     "name": "stdout",
     "output_type": "stream",
     "text": [
      "                                     title\n6164                          The Avengers\n8797   Captain America: The Winter Soldier\n8793               Avengers: Age of Ultron\n937     Captain America: The First Avenger\n10190           Captain America: Civil War\n8818                               Ant-Man\n2803                            Iron Man 2\n8248                            Iron Man 3\n8437                  Thor: The Dark World\n8953               Guardians of the Galaxy\n10315                       Doctor Strange\n24428_The Avengers completed!\n"
     ]
    },
    {
     "name": "stdout",
     "output_type": "stream",
     "text": [
      "                        title\n186     Cat on a Hot Tin Roof\n444             Belle de Jour\n297         Leaving Las Vegas\n616                     Crash\n796           Little Children\n871             Jules and Jim\n1351        Wuthering Heights\n3387  The Barbarian Invasions\n6607                  The Key\n7359     The Long, Hot Summer\n119              The Big Blue\n261_Cat on a Hot Tin Roof completed!\n"
     ]
    },
    {
     "name": "stdout",
     "output_type": "stream",
     "text": [
      "                          title\n6481                  Inception\n7780      The Dark Knight Rises\n7796               Man of Steel\n8093                     Looper\n100             The Dark Knight\n193               Batman Begins\n403         The Matrix Reloaded\n714                The Prestige\n7793  Tinker Tailor Soldier Spy\n7946    Star Trek Into Darkness\n7984               Elektra Luxx\n27205_Inception completed!\n"
     ]
    },
    {
     "name": "stdout",
     "output_type": "stream",
     "text": [
      "                           title\n199                      Amadeus\n3127                        Hair\n319            Good Will Hunting\n495            Finding Forrester\n530   The Passion of Joan of Arc\n532                       Gandhi\n720      The Talented Mr. Ripley\n749                 Four Minutes\n771                    Nostalgia\n788      The Man Who Loved Women\n955                A Chorus Line\n279_Amadeus completed!\n"
     ]
    },
    {
     "name": "stdout",
     "output_type": "stream",
     "text": [
      "                 title\n10340      The Martian\n9038   Alien: Covenant\n9262      Interstellar\n10229  Age of Tomorrow\n52          Armageddon\n3516         Meet Dave\n3874        Enemy Mine\n5159          Serenity\n7608        Battleship\n7950              Love\n8302        Prometheus\n286217_The Martian completed!\n"
     ]
    },
    {
     "name": "stdout",
     "output_type": "stream",
     "text": [
      "                                   title\n7780               The Dark Knight Rises\n100                      The Dark Knight\n193                        Batman Begins\n714                         The Prestige\n251                       Batman Returns\n3777                           Following\n6481                           Inception\n7036                            Defendor\n7796                        Man of Steel\n9645  Batman v Superman: Dawn of Justice\n190                               Batman\n49026_The Dark Knight Rises completed!\n"
     ]
    },
    {
     "name": "stdout",
     "output_type": "stream",
     "text": [
      "                           title\n1565  10 Things I Hate About You\n2612                  The Mighty\n3755                Show Me Love\n8605            Moonrise Kingdom\n9151                     Don Jon\n5142        Career Opportunities\n5707        (500) Days of Summer\n5823                     Air Bud\n7676                     Susie Q\n1111              Viva Las Vegas\n1433               Law of Desire\n4951_10 Things I Hate About You completed!\n"
     ]
    },
    {
     "name": "stdout",
     "output_type": "stream",
     "text": [
      "                             title\n333                  Love Actually\n430          Bridget Jones's Diary\n926     Captain Corelli's Mandolin\n1470             Pride & Prejudice\n4809             Love & Basketball\n334                   Notting Hill\n496    Four Weddings and a Funeral\n844                    The Holiday\n1469                     Atonement\n10153     The Theory of Everything\n59                     Open Hearts\n508_Love Actually completed!\n"
     ]
    },
    {
     "name": "stdout",
     "output_type": "stream",
     "text": [
      "                       title\n402               The Matrix\n403      The Matrix Reloaded\n404   The Matrix Revolutions\n1932                Æon Flux\n2256      Ghost in the Shell\n2556          Demolition Man\n25            Twelve Monkeys\n52                Armageddon\n95                     Akira\n201             Strange Days\n348     Terminator Salvation\n603_The Matrix completed!\n"
     ]
    },
    {
     "name": "stdout",
     "output_type": "stream",
     "text": [
      "                              title\n412       The Passion of the Christ\n458                         Ben-Hur\n842                      Apocalypto\n3394  The Last Temptation of Christ\n672                       Spartacus\n1075                    The Patriot\n3574      The Count of Monte Cristo\n4960             The Girl Next Door\n5588                         Attila\n6904                      Spartacus\n8                Dancer in the Dark\n615_The Passion of the Christ completed!\n"
     ]
    },
    {
     "name": "stdout",
     "output_type": "stream",
     "text": [
      "                               title\n8326                     World War Z\n8438              Mad Max: Fury Road\n470                           Aliens\n607               Planet of the Apes\n839                    Resident Evil\n2115                The Tree of Life\n6328                        Carriers\n7079        Resident Evil: Afterlife\n8190                    Total Recall\n8963  Dawn of the Planet of the Apes\n9509           The Last Days on Mars\n72190_World War Z completed!\n"
     ]
    },
    {
     "name": "stdout",
     "output_type": "stream",
     "text": [
      "                            title\n8416               Now You See Me\n10403            Now You See Me 2\n7878                    Fast Five\n2073                 The Bank Job\n7622                      Dhoom 3\n11209                  Wind River\n211              Ocean's Thirteen\n836    Die Hard: With a Vengeance\n1471                  The Kingdom\n1569            The International\n1639                 The Fugitive\n75656_Now You See Me completed!\n"
     ]
    },
    {
     "name": "stdout",
     "output_type": "stream",
     "text": [
      "                                title\n551                             Se7en\n1025                           Zodiac\n3610               Memories of Murder\n5234  The Case of the Scorpion's Tail\n2482                   The Negotiator\n3410                Striking Distance\n682                       Dirty Harry\n2339                   Kiss the Girls\n3805                        Tightrope\n851                       Primal Fear\n954              The Devil's Advocate\n807_Se7en completed!\n"
     ]
    },
    {
     "name": "stdout",
     "output_type": "stream",
     "text": [
      "                                      title\n1983                               Superbad\n3566                    The Upside of Anger\n5399                    Sex, Party and Lies\n1572                             Knocked Up\n1790                 The 40 Year Old Virgin\n2582  The Sisterhood of the Traveling Pants\n2635              Forgetting Sarah Marshall\n3518      Harold & Kumar Go to White Castle\n3584                          Swimming Pool\n3913                           In Her Shoes\n4893                      Can't Hardly Wait\n8363_Superbad completed!\n"
     ]
    },
    {
     "name": "stdout",
     "output_type": "stream",
     "text": [
      "                             title\n8608                   On the Road\n6054        Werckmeister Harmonies\n10570            Mississippi Grind\n223                      Snow Cake\n2444                        Convoy\n5281                    Crossroads\n6116    The Twilight Saga: Eclipse\n6607                       The Key\n8052   Snow White and the Huntsman\n8078                       The Way\n10284                 The Revenant\n83770_On the Road completed!\n"
     ]
    },
    {
     "name": "stdout",
     "output_type": "stream",
     "text": [
      "                                   title\n662                  Mission: Impossible\n663               Mission: Impossible II\n664              Mission: Impossible III\n1567                           Drop Zone\n1639                        The Fugitive\n9435  Mission: Impossible - Rogue Nation\n441                               Dr. No\n460                  You Only Live Twice\n492                 The Living Daylights\n1191                  Executive Decision\n3193                        Toy Soldiers\n954_Mission  Impossible completed!\n"
     ]
    },
    {
     "name": "stdout",
     "output_type": "stream",
     "text": [
      "                                      title\n2597               The Fast and the Furious\n4498                         Fast & Furious\n384                        2 Fast 2 Furious\n7878                              Fast Five\n8598                       Fast & Furious 6\n1553                              Dark Blue\n2206                               S.W.A.T.\n2471  The Fast and the Furious: Tokyo Drift\n53                     Beverly Hills Cop II\n2111                            Bad Boys II\n736                            Street Kings\n9799_The Fast and the Furious completed!\n"
     ]
    },
    {
     "name": "stdout",
     "output_type": "stream",
     "text": [
      "                                             title\n55                                       Gladiator\n5588                                        Attila\n6904                                     Spartacus\n994   Star Wars: Episode III - Revenge of the Sith\n9477                                      Hercules\n413                               The Last Samurai\n458                                        Ben-Hur\n842                                     Apocalypto\n2300                           Conan the Barbarian\n3775            Tae Guk Gi: The Brotherhood of War\n7259                                      Ironclad\n98_Gladiator completed!\n"
     ]
    },
    {
     "name": "stdout",
     "output_type": "stream",
     "text": [
      "                                                   title\n3                                              Star Wars\n990                              The Empire Strikes Back\n994         Star Wars: Episode III - Revenge of the Sith\n992            Star Wars: Episode I - The Phantom Menace\n9165                        Star Wars: The Force Awakens\n993         Star Wars: Episode II - Attack of the Clones\n991                                   Return of the Jedi\n8396                       The Star Wars Holiday Special\n10754                       Rogue One: A Star Wars Story\n10264  Family Guy Presents: Something, Something, Som...\n5844                                        Kin-dza-dza!\n11_Star Wars completed!\n"
     ]
    },
    {
     "name": "stdout",
     "output_type": "stream",
     "text": [
      "                                                  title\n76    The Lord of the Rings: The Fellowship of the Ring\n77                The Lord of the Rings: The Two Towers\n78        The Lord of the Rings: The Return of the King\n8009                The Hobbit: The Desolation of Smaug\n7784                  The Hobbit: An Unexpected Journey\n9006          The Hobbit: The Battle of the Five Armies\n79                                The Lord of the Rings\n1891                                   The Lovely Bones\n752                                          The Hobbit\n3216                                    The Frighteners\n696                                  Heavenly Creatures\n120_The Lord of the Rings  The Fellowship of the Ring completed!\n"
     ]
    },
    {
     "name": "stdout",
     "output_type": "stream",
     "text": [
      "                                                  title\n79                                The Lord of the Rings\n76    The Lord of the Rings: The Fellowship of the Ring\n77                The Lord of the Rings: The Two Towers\n8009                The Hobbit: The Desolation of Smaug\n9006          The Hobbit: The Battle of the Five Armies\n7784                  The Hobbit: An Unexpected Journey\n752                                          The Hobbit\n78        The Lord of the Rings: The Return of the King\n112                       Star Trek IV: The Voyage Home\n2812                                   The Last Unicorn\n4892                                       Fire and Ice\n123_The Lord of the Rings completed!\n"
     ]
    },
    {
     "name": "stdout",
     "output_type": "stream",
     "text": [
      "                                     title\n4226                             Eagle Eye\n8416                        Now You See Me\n10403                     Now You See Me 2\n835                  Live Free or Die Hard\n10285                            The Mummy\n8367                            The Caller\n124                        Minority Report\n7150   The Naked Gun 2½: The Smell of Fear\n1944                             Disturbia\n8780                                Emergo\n7537                     Sleeping Dogs Lie\n13027_Eagle Eye completed!\n"
     ]
    },
    {
     "name": "stdout",
     "output_type": "stream",
     "text": [
      "                   title\n5           Forrest Gump\n2292   Death Becomes Her\n1620   The Polar Express\n2598        Philadelphia\n11059             Allied\n1981           Cast Away\n1256   What Lies Beneath\n3818     The Deer Hunter\n10337           The Walk\n474              Contact\n2273   Universal Soldier\n13_Forrest Gump completed!\n"
     ]
    },
    {
     "name": "stdout",
     "output_type": "stream",
     "text": [
      "                       title\n9262            Interstellar\n6481               Inception\n370                Apollo 13\n10225             Passengers\n7780   The Dark Knight Rises\n7796            Man of Steel\n10340            The Martian\n3777               Following\n24     2001: A Space Odyssey\n100          The Dark Knight\n11091                Dunkirk\n157336_Interstellar completed!\n"
     ]
    },
    {
     "name": "stdout",
     "output_type": "stream",
     "text": [
      "                                title\n5159                         Serenity\n3516                        Meet Dave\n8729           Much Ado About Nothing\n4682   Dr. Horrible's Sing-Along Blog\n10340                     The Martian\n140                Star Trek: Nemesis\n133            Star Trek: Generations\n8793          Avengers: Age of Ultron\n5700                         Pandorum\n401                  Independence Day\n6281                        Paintball\n16320_Serenity completed!\n"
     ]
    },
    {
     "name": "stdout",
     "output_type": "stream",
     "text": [
      "                           title\n898     The Hunt for Red October\n1523        The Sum of All Fears\n2634               Patriot Games\n9131   Jack Ryan: Shadow Recruit\n2260    Clear and Present Danger\n5357           Ice Station Zebra\n2034        K-19: The Widowmaker\n3862                The Presidio\n9313               A Single Shot\n9225                     Phantom\n10445            Bridge of Spies\n1669_The Hunt for Red October completed!\n"
     ]
    },
    {
     "name": "stdout",
     "output_type": "stream",
     "text": [
      "                                    title\n5304                The Battle of Algiers\n7476                                Burn!\n136                            Braveheart\n10801             The Siege of Jadotville\n907    Conquest of the Planet of the Apes\n1068                        Days of Glory\n2369                    My Name Is Nobody\n11021                     Bajirao Mastani\n532                                Gandhi\n4390                     Intimate Enemies\n3706                              Sleeper\n17295_The Battle of Algiers completed!\n"
     ]
    },
    {
     "name": "stdout",
     "output_type": "stream",
     "text": [
      "                                    title\n1025                               Zodiac\n3219                                Basic\n3545                       Shutter Island\n6249            Beyond a Reasonable Doubt\n8214      The Girl with the Dragon Tattoo\n1557  The Curious Case of Benjamin Button\n551                                 Se7en\n1506                           Panic Room\n6993                            Ted Bundy\n620               All the President's Men\n6437                 The Boston Strangler\n1949_Zodiac completed!\n"
     ]
    },
    {
     "name": "stdout",
     "output_type": "stream",
     "text": [
      "                                    title\n1086                             I, Robot\n9315                    Apartment 1303 3D\n10114                            Automata\n5713                           Surrogates\n404                The Matrix Revolutions\n209    Terminator 3: Rise of the Machines\n2256                   Ghost in the Shell\n3378                         The Big Easy\n403                   The Matrix Reloaded\n3875                Flight of the Phoenix\n10112                           Insurgent\n2048_I, Robot completed!\n"
     ]
    },
    {
     "name": "stdout",
     "output_type": "stream",
     "text": [
      "                                     title\n6164                          The Avengers\n8793               Avengers: Age of Ultron\n8797   Captain America: The Winter Soldier\n10190           Captain America: Civil War\n10315                       Doctor Strange\n2803                            Iron Man 2\n11299                            Team Thor\n937     Captain America: The First Avenger\n8248                            Iron Man 3\n929                               Iron Man\n8953               Guardians of the Galaxy\n24428_The Avengers completed!\n"
     ]
    },
    {
     "name": "stdout",
     "output_type": "stream",
     "text": [
      "                                title\n186             Cat on a Hot Tin Roof\n5949                     Elmer Gantry\n6577   They Shoot Horses, Don't They?\n5571                    In Cold Blood\n848                     Secret Window\n3593                         Lord Jim\n6091                    BUtterfield 8\n297                 Leaving Las Vegas\n264   Who's Afraid of Virginia Woolf?\n8408                  I Melt with You\n7359             The Long, Hot Summer\n261_Cat on a Hot Tin Roof completed!\n"
     ]
    },
    {
     "name": "stdout",
     "output_type": "stream",
     "text": [
      "                       title\n6481               Inception\n3777               Following\n714             The Prestige\n7780   The Dark Knight Rises\n7984            Elektra Luxx\n100          The Dark Knight\n11091                Dunkirk\n7796            Man of Steel\n7534               Doodlebug\n193            Batman Begins\n9262            Interstellar\n27205_Inception completed!\n"
     ]
    },
    {
     "name": "stdout",
     "output_type": "stream",
     "text": [
      "                                title\n199                           Amadeus\n8164                       Noah's Ark\n335   One Flew Over the Cuckoo's Nest\n7706                Hilary and Jackie\n9950                  Beloved Sisters\n7683                  Buddy goes West\n4181              Broadway Danny Rose\n1487                   Les Misérables\n3127                             Hair\n6298                          Ragtime\n4468                 Immortal Beloved\n279_Amadeus completed!\n"
     ]
    },
    {
     "name": "stdout",
     "output_type": "stream",
     "text": [
      "                        title\n10340             The Martian\n9038          Alien: Covenant\n9206   Exodus: Gods and Kings\n11116                  Morgan\n7950                     Love\n810         Kingdom of Heaven\n3516                Meet Dave\n9262             Interstellar\n8302               Prometheus\n10229         Age of Tomorrow\n3917            Capricorn One\n286217_The Martian completed!\n"
     ]
    },
    {
     "name": "stdout",
     "output_type": "stream",
     "text": [
      "                      title\n7780  The Dark Knight Rises\n100         The Dark Knight\n193           Batman Begins\n714            The Prestige\n3777              Following\n6481              Inception\n7796           Man of Steel\n7036               Defendor\n251          Batman Returns\n190                  Batman\n9262           Interstellar\n49026_The Dark Knight Rises completed!\n"
     ]
    },
    {
     "name": "stdout",
     "output_type": "stream",
     "text": [
      "                            title\n1565   10 Things I Hate About You\n2977             The Mighty Ducks\n9151                      Don Jon\n8353                  Teen Spirit\n6208       Angels in the Outfield\n7799                 Premium Rush\n7984                 Elektra Luxx\n2213                        Brick\n2233         John Tucker Must Die\n10994         Riley's First Date?\n7388                        50/50\n4951_10 Things I Hate About You completed!\n"
     ]
    },
    {
     "name": "stdout",
     "output_type": "stream",
     "text": [
      "                                   title\n333                        Love Actually\n430                Bridget Jones's Diary\n496          Four Weddings and a Funeral\n334                         Notting Hill\n9005                          About Time\n11379              Red Nose Day Actually\n8161                      New Year's Eve\n844                          The Holiday\n1469                           Atonement\n2599   Bridget Jones: The Edge of Reason\n9626                               Trash\n508_Love Actually completed!\n"
     ]
    },
    {
     "name": "stdout",
     "output_type": "stream",
     "text": [
      "                       title\n402               The Matrix\n404   The Matrix Revolutions\n403      The Matrix Reloaded\n2240                   Bound\n8455       Jupiter Ascending\n7980           The Animatrix\n1848             Speed Racer\n579                     Dune\n611     Frank Herbert's Dune\n2256      Ghost in the Shell\n2085              Red Planet\n603_The Matrix completed!\n"
     ]
    },
    {
     "name": "stdout",
     "output_type": "stream",
     "text": [
      "                               title\n412        The Passion of the Christ\n5020                       Paparazzi\n383                    Life of Brian\n6722           The Singing Detective\n842                       Apocalypto\n136                       Braveheart\n1208    The Greatest Story Ever Told\n1302                     The Apostle\n3394   The Last Temptation of Christ\n10582        Last Days in the Desert\n10818                          Risen\n615_The Passion of the Christ completed!\n"
     ]
    },
    {
     "name": "stdout",
     "output_type": "stream",
     "text": [
      "                     title\n8326           World War Z\n10986          War Machine\n839          Resident Evil\n10646        The Big Short\n2115      The Tree of Life\n9919            True Story\n10846           Extinction\n8197   Killing Them Softly\n3791      Land of the Dead\n8843               Re-Kill\n9295          Tomorrowland\n72190_World War Z completed!\n"
     ]
    },
    {
     "name": "stdout",
     "output_type": "stream",
     "text": [
      "                   title\n8416      Now You See Me\n10403   Now You See Me 2\n4226           Eagle Eye\n10513          The Trust\n7622             Dhoom 3\n10285          The Mummy\n1867             Déjà Vu\n8189       Seven Thieves\n1569   The International\n7878           Fast Five\n9688         Masterminds\n75656_Now You See Me completed!\n"
     ]
    },
    {
     "name": "stdout",
     "output_type": "stream",
     "text": [
      "                    title\n551                 Se7en\n358            Fight Club\n1025               Zodiac\n3410    Striking Distance\n1082  Along Came a Spider\n266                Capote\n124       Minority Report\n4403      City By The Sea\n4418              Twisted\n2482       The Negotiator\n1263        Sleepy Hollow\n807_Se7en completed!\n"
     ]
    },
    {
     "name": "stdout",
     "output_type": "stream",
     "text": [
      "                           title\n1983                    Superbad\n6926        Get Him to the Greek\n5399         Sex, Party and Lies\n2635   Forgetting Sarah Marshall\n1790      The 40 Year Old Virgin\n1572                  Knocked Up\n2843           Pineapple Express\n6073                    Kick-Ass\n10198                 Trainwreck\n5734             Bart Got a Room\n5210               Adventureland\n8363_Superbad completed!\n"
     ]
    },
    {
     "name": "stdout",
     "output_type": "stream",
     "text": [
      "                                title\n8608                      On the Road\n891            The Motorcycle Diaries\n4968                     American Gun\n9481                  Tom at the Farm\n1953                     Summer Hours\n9938             Clouds of Sils Maria\n10883                Personal Shopper\n3533      The World According to Garp\n9949                  The Dark Valley\n2444                           Convoy\n10844  It's Only the End of the World\n83770_On the Road completed!\n"
     ]
    },
    {
     "name": "stdout",
     "output_type": "stream",
     "text": [
      "                                    title\n662                   Mission: Impossible\n663                Mission: Impossible II\n664               Mission: Impossible III\n9435   Mission: Impossible - Rogue Nation\n10463                  Dying of the Light\n441                                Dr. No\n3781                            Get Smart\n413                      The Last Samurai\n460                   You Only Live Twice\n998                           Vanilla Sky\n3316                   Jumpin' Jack Flash\n954_Mission  Impossible completed!\n"
     ]
    },
    {
     "name": "stdout",
     "output_type": "stream",
     "text": [
      "                                      title\n2597               The Fast and the Furious\n8598                       Fast & Furious 6\n4498                         Fast & Furious\n384                        2 Fast 2 Furious\n9359                              Furious 7\n7878                              Fast Five\n2749                                Stealth\n2206                               S.W.A.T.\n1553                              Dark Blue\n2471  The Fast and the Furious: Tokyo Drift\n1843                                    xXx\n9799_The Fast and the Furious completed!\n"
     ]
    },
    {
     "name": "stdout",
     "output_type": "stream",
     "text": [
      "                                title\n55                          Gladiator\n5588                           Attila\n6904                        Spartacus\n2532                  The Last Legion\n672                         Spartacus\n2300              Conan the Barbarian\n2083               Asterix vs. Caesar\n3847                          Amistad\n7792                        The Eagle\n6395                            Agora\n2432  Asterix & Obelix Take on Caesar\n98_Gladiator completed!\n"
     ]
    }
   ],
   "source": [
    "analyze_movies_from_directory(vectorizer=count_vectorizer, vectorizer_matrix=count_vectorizer_matrix,\n",
    "                              similarity_matrix=count_vect_sim_matrix_cos, top_n=10, recommendation_type='count_vect_cos', replace=True)\n",
    "analyze_movies_from_directory(vectorizer=count_vectorizer, vectorizer_matrix=count_vectorizer_matrix,\n",
    "                              similarity_matrix=count_vect_sim_matrix_dot, top_n=10, recommendation_type='count_vect_dot', replace=True)\n",
    "analyze_movies_from_directory(vectorizer=tfidf_vectorizer, vectorizer_matrix=tfidf_vectorizer_matrix,\n",
    "                              similarity_matrix=tfidf_vect_sim_matrix_dot, top_n=10, recommendation_type='tfidf_normalized', replace=True)\n"
   ]
  },
  {
   "cell_type": "code",
   "execution_count": 19,
   "metadata": {
    "collapsed": true
   },
   "outputs": [
    {
     "name": "stdout",
     "output_type": "stream",
     "text": [
      "                                              title\n3                                         Star Wars\n990                         The Empire Strikes Back\n9165                   Star Wars: The Force Awakens\n994    Star Wars: Episode III - Revenge of the Sith\n992       Star Wars: Episode I - The Phantom Menace\n991                              Return of the Jedi\n993    Star Wars: Episode II - Attack of the Clones\n8396                  The Star Wars Holiday Special\n10754                  Rogue One: A Star Wars Story\n112                   Star Trek IV: The Voyage Home\n586                                           Krull\n11_Star Wars completed!\n"
     ]
    },
    {
     "name": "stdout",
     "output_type": "stream",
     "text": [
      "                                                   title\n76     The Lord of the Rings: The Fellowship of the Ring\n77                 The Lord of the Rings: The Two Towers\n8009                 The Hobbit: The Desolation of Smaug\n78         The Lord of the Rings: The Return of the King\n9006           The Hobbit: The Battle of the Five Armies\n7784                   The Hobbit: An Unexpected Journey\n79                                 The Lord of the Rings\n752                                           The Hobbit\n8256                                            Warcraft\n3681                                           Excalibur\n10565                                       Last Knights\n120_The Lord of the Rings  The Fellowship of the Ring completed!\n"
     ]
    },
    {
     "name": "stdout",
     "output_type": "stream",
     "text": [
      "                                                   title\n79                                 The Lord of the Rings\n8009                 The Hobbit: The Desolation of Smaug\n77                 The Lord of the Rings: The Two Towers\n76     The Lord of the Rings: The Fellowship of the Ring\n7784                   The Hobbit: An Unexpected Journey\n9006           The Hobbit: The Battle of the Five Armies\n10902                            Night Of The Living Deb\n752                                           The Hobbit\n2722                                      Brother Bear 2\n1902                                    Punch-Drunk Love\n10565                                       Last Knights\n123_The Lord of the Rings completed!\n"
     ]
    },
    {
     "name": "stdout",
     "output_type": "stream",
     "text": [
      "                                         title\n4226                                 Eagle Eye\n835                      Live Free or Die Hard\n2600                                  The Rock\n10099            The Yellow Eyes of Crocodiles\n9064                           Stories We Tell\n4184                          Cold Creek Manor\n2396                               The Matador\n6584                                     Chloe\n2744   Miss Congeniality 2: Armed and Fabulous\n9945                                 Mea Culpa\n5067                                 Interiors\n13027_Eagle Eye completed!\n"
     ]
    },
    {
     "name": "stdout",
     "output_type": "stream",
     "text": [
      "                             title\n5                     Forrest Gump\n10755                   The Choice\n2598                  Philadelphia\n849    What's Eating Gilbert Grape\n8541                          W.E.\n8460                    True Women\n3357                   Wonder Boys\n2273             Universal Soldier\n3488               Cinema Paradiso\n7248                   The Cyclone\n3904            Bullet in the Head\n13_Forrest Gump completed!\n"
     ]
    },
    {
     "name": "stdout",
     "output_type": "stream",
     "text": [
      "                                 title\n9262                      Interstellar\n10225                       Passengers\n10340                      The Martian\n370                          Apollo 13\n607                 Planet of the Apes\n10114                         Automata\n24               2001: A Space Odyssey\n8723   Transformers: Age of Extinction\n8411                          Oblivion\n9038                   Alien: Covenant\n11138                   Hidden Figures\n157336_Interstellar completed!\n"
     ]
    },
    {
     "name": "stdout",
     "output_type": "stream",
     "text": [
      "                               title\n5159                        Serenity\n3516                       Meet Dave\n133           Star Trek: Generations\n6281                       Paintball\n10340                    The Martian\n4849          Screamers: The Hunting\n112    Star Trek IV: The Voyage Home\n4300         Futurama: Bender's Game\n2953                       Supernova\n927              The Incredible Hulk\n9263                       Divergent\n16320_Serenity completed!\n"
     ]
    },
    {
     "name": "stdout",
     "output_type": "stream",
     "text": [
      "                          title\n898    The Hunt for Red October\n1523       The Sum of All Fears\n9313              A Single Shot\n9131  Jack Ryan: Shadow Recruit\n2072                Under Siege\n1248             The Specialist\n498         Tomorrow Never Dies\n5357          Ice Station Zebra\n2186              Spies Like Us\n2578              Air Force One\n9225                    Phantom\n1669_The Hunt for Red October completed!\n"
     ]
    },
    {
     "name": "stdout",
     "output_type": "stream",
     "text": [
      "                                 title\n5304             The Battle of Algiers\n7476                             Burn!\n136                         Braveheart\n335    One Flew Over the Cuckoo's Nest\n4390                  Intimate Enemies\n623                Birdman of Alcatraz\n532                             Gandhi\n9083                     The Liberator\n4566                    24: Redemption\n10801          The Siege of Jadotville\n397                        City of God\n17295_The Battle of Algiers completed!\n"
     ]
    },
    {
     "name": "stdout",
     "output_type": "stream",
     "text": [
      "                                  title\n1025                             Zodiac\n3291                       Surveillance\n1919                       Suspect Zero\n2486                         Grimm Love\n10472  Next Time I'll Aim for the Heart\n551                               Se7en\n6993                          Ted Bundy\n3610                 Memories of Murder\n3805                          Tightrope\n5942              Counter Investigation\n3415                       Taking Lives\n1949_Zodiac completed!\n"
     ]
    },
    {
     "name": "stdout",
     "output_type": "stream",
     "text": [
      "                        title\n1086                 I, Robot\n5713               Surrogates\n10114                Automata\n4770             Natural City\n5501                 Horsemen\n404    The Matrix Revolutions\n1558                   Zardoz\n403       The Matrix Reloaded\n124           Minority Report\n2256       Ghost in the Shell\n348      Terminator Salvation\n2048_I, Robot completed!\n"
     ]
    },
    {
     "name": "stdout",
     "output_type": "stream",
     "text": [
      "                                     title\n6164                          The Avengers\n8797   Captain America: The Winter Soldier\n8793               Avengers: Age of Ultron\n10190           Captain America: Civil War\n8818                               Ant-Man\n8953               Guardians of the Galaxy\n10315                       Doctor Strange\n8248                            Iron Man 3\n8964              Marvel One-Shot: Item 47\n937     Captain America: The First Avenger\n2803                            Iron Man 2\n24428_The Avengers completed!\n"
     ]
    },
    {
     "name": "stdout",
     "output_type": "stream",
     "text": [
      "                                title\n186             Cat on a Hot Tin Roof\n444                     Belle de Jour\n297                 Leaving Las Vegas\n7273                    Jack the Bear\n796                   Little Children\n7359             The Long, Hot Summer\n2147                         Dog Days\n264   Who's Afraid of Virginia Woolf?\n5949                     Elmer Gantry\n7859                       The Beaver\n506                             Faces\n261_Cat on a Hot Tin Roof completed!\n"
     ]
    },
    {
     "name": "stdout",
     "output_type": "stream",
     "text": [
      "                           title\n6481                   Inception\n11374                   Altitude\n7984                Elektra Luxx\n8092                   Abduction\n6341               Staten Island\n4619                Columbus Day\n9458                  Vehicle 19\n7793   Tinker Tailor Soldier Spy\n5806                     Seconds\n211             Ocean's Thirteen\n10266     Mechanic: Resurrection\n27205_Inception completed!\n"
     ]
    },
    {
     "name": "stdout",
     "output_type": "stream",
     "text": [
      "                                         title\n199                                    Amadeus\n7706                         Hilary and Jackie\n7683                           Buddy goes West\n4181                       Broadway Danny Rose\n3301                         Too Young to Die?\n6963                            Daddy and Them\n6748        Stepfather II: Make Room For Daddy\n8748                                Alex Cross\n788                    The Man Who Loved Women\n2822  My Left Foot: The Story of Christy Brown\n8491                        Chicken with Plums\n279_Amadeus completed!\n"
     ]
    },
    {
     "name": "stdout",
     "output_type": "stream",
     "text": [
      "                         title\n10340              The Martian\n3516                 Meet Dave\n7950                      Love\n10229          Age of Tomorrow\n3874                Enemy Mine\n8953   Guardians of the Galaxy\n5238                 Planet 51\n1140             Lost in Space\n9262              Interstellar\n10750            Terra Formars\n2085                Red Planet\n286217_The Martian completed!\n"
     ]
    },
    {
     "name": "stdout",
     "output_type": "stream",
     "text": [
      "                                    title\n7780                The Dark Knight Rises\n100                       The Dark Knight\n193                         Batman Begins\n190                                Batman\n7377           Batman: Under the Red Hood\n7036                             Defendor\n278                        Batman & Robin\n11274                 Justice League Dark\n5132   Batman Beyond: Return of the Joker\n251                        Batman Returns\n11147            Batman: The Killing Joke\n49026_The Dark Knight Rises completed!\n"
     ]
    },
    {
     "name": "stdout",
     "output_type": "stream",
     "text": [
      "                           title\n1565  10 Things I Hate About You\n2612                  The Mighty\n8635               Save the Date\n4716            Birds of America\n7248                 The Cyclone\n2293    Ferris Bueller's Day Off\n3755                Show Me Love\n4179       Inventing the Abbotts\n9995             Moms' Night Out\n2233        John Tucker Must Die\n9379               The Boxtrolls\n4951_10 Things I Hate About You completed!\n"
     ]
    },
    {
     "name": "stdout",
     "output_type": "stream",
     "text": [
      "                      title\n333           Love Actually\n8975             Torn Apart\n844             The Holiday\n8161         New Year's Eve\n5485           Exit to Eden\n1239      Prelude to a Kiss\n302                   Sissi\n1458          Kal Ho Naa Ho\n430   Bridget Jones's Diary\n4809      Love & Basketball\n5729       Manual of Love 2\n508_Love Actually completed!\n"
     ]
    },
    {
     "name": "stdout",
     "output_type": "stream",
     "text": [
      "                             title\n402                     The Matrix\n404         The Matrix Revolutions\n403            The Matrix Reloaded\n7923               World on a Wire\n1932                      Æon Flux\n2256            Ghost in the Shell\n9442                    The Colony\n10659           Il nome del figlio\n2614   Mortal Kombat: Annihilation\n348           Terminator Salvation\n39                    Blade Runner\n603_The Matrix completed!\n"
     ]
    },
    {
     "name": "stdout",
     "output_type": "stream",
     "text": [
      "                              title\n412       The Passion of the Christ\n3394  The Last Temptation of Christ\n1208   The Greatest Story Ever Told\n6054         Werckmeister Harmonies\n1302                    The Apostle\n7139            You Don't Know Jack\n7099                      I Am Dina\n3267                         Malena\n6788                   Taking Sides\n4414                            Max\n1921                    Untraceable\n615_The Passion of the Christ completed!\n"
     ]
    },
    {
     "name": "stdout",
     "output_type": "stream",
     "text": [
      "                             title\n8326                   World War Z\n9381                    Kokowaah 2\n10831                        Viral\n10040       Escobar: Paradise Lost\n6909   Howling III: The Marsupials\n10731      Approaching the Unknown\n11265      What Happened to Monday\n3791              Land of the Dead\n839                  Resident Evil\n5958                      Lymelife\n9509         The Last Days on Mars\n72190_World War Z completed!\n"
     ]
    },
    {
     "name": "stdout",
     "output_type": "stream",
     "text": [
      "                  title\n8416     Now You See Me\n10403  Now You See Me 2\n10513         The Trust\n1471        The Kingdom\n8189      Seven Thieves\n1867            Déjà Vu\n7622            Dhoom 3\n211    Ocean's Thirteen\n11209        Wind River\n7878          Fast Five\n9191              RED 2\n75656_Now You See Me completed!\n"
     ]
    },
    {
     "name": "stdout",
     "output_type": "stream",
     "text": [
      "                    title\n551                 Se7en\n1025               Zodiac\n3410    Striking Distance\n3610   Memories of Murder\n3805            Tightrope\n9846     Reasonable Doubt\n6364   Messenger of Death\n9817            Marshland\n11355           Grey Lady\n2482       The Negotiator\n3415         Taking Lives\n807_Se7en completed!\n"
     ]
    },
    {
     "name": "stdout",
     "output_type": "stream",
     "text": [
      "                               title\n1983                        Superbad\n5399             Sex, Party and Lies\n8005          Tu la conosci Claudia?\n7941                      La matassa\n4794                           Boudu\n7069                 Cado dalle nubi\n7937                     Wild Cherry\n5210                   Adventureland\n6428                      Glory Daze\n4163                    Still Smokin\n9931  The Three Brothers: The Return\n8363_Superbad completed!\n"
     ]
    },
    {
     "name": "stdout",
     "output_type": "stream",
     "text": [
      "                        title\n8608              On the Road\n10570       Mississippi Grind\n4968             American Gun\n10879          American Honey\n223                 Snow Cake\n10442               Safelight\n6054   Werckmeister Harmonies\n10398        The Sea of Trees\n687               The Hustler\n8794       Dumb and Dumber To\n11214           The Last Word\n83770_On the Road completed!\n"
     ]
    },
    {
     "name": "stdout",
     "output_type": "stream",
     "text": [
      "                                    title\n662                   Mission: Impossible\n663                Mission: Impossible II\n664               Mission: Impossible III\n1567                            Drop Zone\n3781                            Get Smart\n10463                  Dying of the Light\n9435   Mission: Impossible - Rogue Nation\n3292            The Man with One Red Shoe\n9191                                RED 2\n441                                Dr. No\n5558                          Crime Story\n954_Mission  Impossible completed!\n"
     ]
    },
    {
     "name": "stdout",
     "output_type": "stream",
     "text": [
      "                                      title\n2597               The Fast and the Furious\n384                        2 Fast 2 Furious\n8598                       Fast & Furious 6\n4498                         Fast & Furious\n1553                              Dark Blue\n7878                              Fast Five\n2667                             Waist Deep\n8867                              Hit & Run\n2471  The Fast and the Furious: Tokyo Drift\n9831                                    Spy\n5880                             Stone Cold\n9799_The Fast and the Furious completed!\n"
     ]
    },
    {
     "name": "stdout",
     "output_type": "stream",
     "text": [
      "                                              title\n55                                        Gladiator\n5588                                         Attila\n6904                                      Spartacus\n9477                                       Hercules\n1580                              American Gangster\n994    Star Wars: Episode III - Revenge of the Sith\n6054                         Werckmeister Harmonies\n8304                                          Arena\n3969                                   Body of Lies\n4647  The Librarian: Return to King Solomon's Mines\n842                                      Apocalypto\n98_Gladiator completed!\n"
     ]
    }
   ],
   "source": [
    "analyze_movies_from_directory(vectorizer=own_weighting_vectorizer, vectorizer_matrix=own_weighting_vectorizer_matrix,\n",
    "                              similarity_matrix=own_weighting_sim_matrix_cos, top_n=10, recommendation_type='own_weighting_cos', replace=True)"
   ]
  },
  {
   "cell_type": "markdown",
   "metadata": {},
   "source": [
    "## Save the chosen method"
   ]
  },
  {
   "cell_type": "code",
   "execution_count": 13,
   "metadata": {},
   "outputs": [],
   "source": [
    "import pickle\n",
    "\n",
    "with open('.\\\\serialized_objects\\\\movie_based\\\\count_vectorizer.pkl', 'wb') as f:\n",
    "    pickle.dump(count_vectorizer, f)\n",
    "    \n",
    "with open('.\\\\serialized_objects\\\\movie_based\\\\count_vectorizer_matrix.pkl', 'wb') as f:\n",
    "    pickle.dump(count_vectorizer_matrix, f)"
   ]
  },
  {
   "cell_type": "markdown",
   "metadata": {},
   "source": [
    "## Clean directory from useless CSV files if needed"
   ]
  },
  {
   "cell_type": "code",
   "execution_count": 8,
   "metadata": {},
   "outputs": [],
   "source": [
    "\"\"\"Clean directory\"\"\"\n",
    "import os\n",
    "import glob\n",
    "\n",
    "files = glob.glob('.\\\\data\\\\recommendations\\\\**\\\\*.csv', recursive=True)\n",
    "\n",
    "for f in files:\n",
    "    try:\n",
    "        os.remove(f)\n",
    "    except OSError as e:\n",
    "        print(\"Error: %s : %s\" % (f, e.strerror))"
   ]
  },
  {
   "cell_type": "code",
   "execution_count": null,
   "metadata": {},
   "outputs": [],
   "source": []
  }
 ],
 "metadata": {
  "kernelspec": {
   "display_name": "Python 2",
   "language": "python",
   "name": "python2"
  },
  "language_info": {
   "codemirror_mode": {
    "name": "ipython",
    "version": 2
   },
   "file_extension": ".py",
   "mimetype": "text/x-python",
   "name": "python",
   "nbconvert_exporter": "python",
   "pygments_lexer": "ipython2",
   "version": "2.7.6"
  }
 },
 "nbformat": 4,
 "nbformat_minor": 0
}
