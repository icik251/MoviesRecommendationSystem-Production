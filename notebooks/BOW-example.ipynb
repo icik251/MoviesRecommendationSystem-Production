{
 "cells": [
  {
   "cell_type": "code",
   "execution_count": null,
   "metadata": {
    "collapsed": true
   },
   "outputs": [],
   "source": [
    "import pandas as pd\n",
    "\n",
    "qualified_movies_df = pd.read_csv('.\\\\data\\\\processed_movies\\\\qualified_all_metadata_movie_eras.csv')"
   ]
  },
  {
   "cell_type": "code",
   "execution_count": 30,
   "metadata": {},
   "outputs": [],
   "source": [
    "godfather_df = qualified_movies_df[qualified_movies_df['title'].isin(['The Godfather', 'The Godfather: Part II'])] "
   ]
  },
  {
   "cell_type": "code",
   "execution_count": null,
   "metadata": {},
   "outputs": [],
   "source": [
    "from sklearn.feature_extraction.text import CountVectorizer\n",
    "\n",
    "\"\"\"Regex to keep keywords and not separate them, like 'hotel room', becomes hotel+room,\n",
    "strip accents to unicode to make 'fiancé' to 'fiance' and so on\"\"\"\n",
    "count_vectorizer = CountVectorizer(analyzer='word', lowercase=True,\n",
    "                                   stop_words='english', ngram_range=(1, 1), token_pattern=r'[a-zA-Z0-9+_]+',\n",
    "                                   strip_accents='unicode')\n",
    "count_vectorizer_matrix = count_vectorizer.fit_transform(godfather_df['all_metadata'])"
   ]
  },
  {
   "cell_type": "code",
   "execution_count": 34,
   "metadata": {},
   "outputs": [],
   "source": [
    "features_example_df = pd.DataFrame(count_vectorizer_matrix.toarray(), columns=count_vectorizer.get_feature_names())\n",
    "features_example_df.to_csv('.\\\\data\\\\examples\\\\godfather.csv', index=False)"
   ]
  },
  {
   "cell_type": "code",
   "execution_count": null,
   "metadata": {},
   "outputs": [],
   "source": []
  }
 ],
 "metadata": {
  "kernelspec": {
   "display_name": "Python 2",
   "language": "python",
   "name": "python2"
  },
  "language_info": {
   "codemirror_mode": {
    "name": "ipython",
    "version": 2
   },
   "file_extension": ".py",
   "mimetype": "text/x-python",
   "name": "python",
   "nbconvert_exporter": "python",
   "pygments_lexer": "ipython2",
   "version": "2.7.6"
  }
 },
 "nbformat": 4,
 "nbformat_minor": 0
}
