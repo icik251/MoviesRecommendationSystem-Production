{
 "cells": [
  {
   "cell_type": "markdown",
   "metadata": {
    "collapsed": true
   },
   "source": [
    "## Create DataFrame from DB"
   ]
  },
  {
   "cell_type": "code",
   "execution_count": 1,
   "metadata": {
    "collapsed": true
   },
   "outputs": [],
   "source": [
    "from utils.database_operations import DatabaseOperations\n",
    "\n",
    "db_operations = DatabaseOperations()\n",
    "\n",
    "movies_df = db_operations.populate_df()\n",
    "db_operations.close_session()"
   ]
  },
  {
   "cell_type": "code",
   "execution_count": null,
   "metadata": {
    "collapsed": true
   },
   "outputs": [],
   "source": [
    "movies_df[['actors', 'movie_id']]"
   ]
  },
  {
   "cell_type": "markdown",
   "metadata": {},
   "source": [
    "## Save main Dataframe from DB"
   ]
  },
  {
   "cell_type": "code",
   "execution_count": null,
   "metadata": {},
   "outputs": [],
   "source": [
    "movies_df.to_csv('data\\\\csv_from_db\\\\movies_df.csv', index=False)"
   ]
  },
  {
   "cell_type": "markdown",
   "metadata": {},
   "source": [
    "## Load main Dataframe from DB"
   ]
  },
  {
   "cell_type": "code",
   "execution_count": null,
   "metadata": {
    "collapsed": true
   },
   "outputs": [],
   "source": [
    "import pandas as pd\n",
    "\n",
    "movies_df = pd.read_csv('data\\\\csv_from_db\\\\movies_df.csv')"
   ]
  },
  {
   "cell_type": "code",
   "execution_count": 148,
   "metadata": {
    "collapsed": true
   },
   "outputs": [
    {
     "data": {
      "text/plain": [
       "Index(['movie_id', 'budget', 'original_language', 'title', 'overview',\n       'popularity', 'release_date', 'revenue', 'runtime', 'tagline',\n       'vote_average', 'vote_count', 'genres', 'collection', 'actors',\n       'directors', 'producers', 'composers', 'screenplays', 'keywords',\n       'production_company', 'production_country', 'spoken_languages'],\n      dtype='object')"
      ]
     },
     "execution_count": 148,
     "metadata": {},
     "output_type": "execute_result"
    }
   ],
   "source": [
    "movies_df.columns"
   ]
  },
  {
   "cell_type": "markdown",
   "metadata": {},
   "source": [
    "## Which movies qualify to be recommended"
   ]
  },
  {
   "cell_type": "code",
   "execution_count": 149,
   "metadata": {
    "collapsed": true
   },
   "outputs": [
    {
     "data": {
      "text/plain": [
       "count    45430.000000\nmean         2.921206\nstd          6.006708\nmin          0.000000\n25%          0.385872\n50%          1.127238\n75%          3.678128\nmax        547.488298\nName: popularity, dtype: float64"
      ]
     },
     "execution_count": 149,
     "metadata": {},
     "output_type": "execute_result"
    }
   ],
   "source": [
    "\"\"\"Using popularity and vote_count to decide which movies qualify to be in the system\"\"\"\n",
    "movies_df['popularity'].describe()"
   ]
  },
  {
   "cell_type": "code",
   "execution_count": 150,
   "metadata": {
    "collapsed": true
   },
   "outputs": [
    {
     "data": {
      "text/plain": [
       "count    45430.000000\nmean       109.935989\nstd        491.466335\nmin          0.000000\n25%          3.000000\n50%         10.000000\n75%         34.000000\nmax      14075.000000\nName: vote_count, dtype: float64"
      ]
     },
     "execution_count": 150,
     "metadata": {},
     "output_type": "execute_result"
    }
   ],
   "source": [
    "movies_df['vote_count'].describe()"
   ]
  },
  {
   "cell_type": "code",
   "execution_count": 151,
   "metadata": {},
   "outputs": [],
   "source": [
    "import seaborn as sns\n",
    "import matplotlib.pyplot as plt\n",
    "\n",
    "sns.distplot(movies_df['popularity'])\n",
    "plt.show()\n",
    "\n",
    "sns.distplot(movies_df['vote_count'])\n",
    "plt.show()"
   ]
  },
  {
   "cell_type": "code",
   "execution_count": 152,
   "metadata": {},
   "outputs": [],
   "source": [
    "min_vote_count = movies_df['vote_count'].quantile(q=0.9)"
   ]
  },
  {
   "cell_type": "code",
   "execution_count": 153,
   "metadata": {},
   "outputs": [],
   "source": [
    "min_popularity = movies_df['popularity'].quantile(q=0.75)"
   ]
  },
  {
   "cell_type": "code",
   "execution_count": 154,
   "metadata": {},
   "outputs": [],
   "source": [
    "qualified_movies_df = movies_df[((movies_df['vote_count'] >= min_vote_count) & (movies_df['vote_count'].notnull()) |\n",
    "                                 (movies_df['popularity'] >= min_popularity) & (movies_df['popularity'].notnull()))]"
   ]
  },
  {
   "cell_type": "markdown",
   "metadata": {},
   "source": [
    "## Save qualified movies CSV"
   ]
  },
  {
   "cell_type": "code",
   "execution_count": 155,
   "metadata": {},
   "outputs": [],
   "source": [
    "qualified_movies_df.to_csv('data\\\\processed_movies\\\\qualified_movies.csv', index=False)"
   ]
  },
  {
   "cell_type": "markdown",
   "metadata": {},
   "source": [
    "## Load qualified movies CSV"
   ]
  },
  {
   "cell_type": "code",
   "execution_count": 156,
   "metadata": {},
   "outputs": [],
   "source": [
    "import pandas as pd\n",
    "\n",
    "qualified_movies_df = pd.read_csv('data\\\\processed_movies\\\\qualified_movies.csv')"
   ]
  },
  {
   "cell_type": "code",
   "execution_count": 157,
   "metadata": {},
   "outputs": [
    {
     "data": {
      "text/html": [
       "<div>\n",
       "<style scoped>\n",
       "    .dataframe tbody tr th:only-of-type {\n",
       "        vertical-align: middle;\n",
       "    }\n",
       "\n",
       "    .dataframe tbody tr th {\n",
       "        vertical-align: top;\n",
       "    }\n",
       "\n",
       "    .dataframe thead th {\n",
       "        text-align: right;\n",
       "    }\n",
       "</style>\n",
       "<table border=\"1\" class=\"dataframe\">\n",
       "  <thead>\n",
       "    <tr style=\"text-align: right;\">\n",
       "      <th></th>\n",
       "      <th>movie_id</th>\n",
       "      <th>budget</th>\n",
       "      <th>original_language</th>\n",
       "      <th>title</th>\n",
       "      <th>overview</th>\n",
       "      <th>popularity</th>\n",
       "      <th>release_date</th>\n",
       "      <th>revenue</th>\n",
       "      <th>runtime</th>\n",
       "      <th>tagline</th>\n",
       "      <th>vote_average</th>\n",
       "      <th>vote_count</th>\n",
       "      <th>genres</th>\n",
       "    </tr>\n",
       "  </thead>\n",
       "  <tbody>\n",
       "    <tr>\n",
       "      <th>165</th>\n",
       "      <td>238</td>\n",
       "      <td>6000000</td>\n",
       "      <td>en</td>\n",
       "      <td>The Godfather</td>\n",
       "      <td>Spanning the years 1945 to 1955, a chronicle o...</td>\n",
       "      <td>41.109264</td>\n",
       "      <td>1972-03-14</td>\n",
       "      <td>245066411.0</td>\n",
       "      <td>175.0</td>\n",
       "      <td>An offer you can't refuse.</td>\n",
       "      <td>8.5</td>\n",
       "      <td>6024.0</td>\n",
       "      <td>['Drama', 'Crime']</td>\n",
       "    </tr>\n",
       "  </tbody>\n",
       "</table>\n",
       "</div>"
      ],
      "text/plain": [
       "<div>\n",
       "<style scoped>\n",
       "    .dataframe tbody tr th:only-of-type {\n",
       "        vertical-align: middle;\n",
       "    }\n",
       "\n",
       "    .dataframe tbody tr th {\n",
       "        vertical-align: top;\n",
       "    }\n",
       "\n",
       "    .dataframe thead th {\n",
       "        text-align: right;\n",
       "    }\n",
       "</style>\n",
       "<table border=\"1\" class=\"dataframe\">\n",
       "  <thead>\n",
       "    <tr style=\"text-align: right;\">\n",
       "      <th></th>\n",
       "      <th>movie_id</th>\n",
       "      <th>budget</th>\n",
       "      <th>original_language</th>\n",
       "      <th>title</th>\n",
       "      <th>overview</th>\n",
       "      <th>popularity</th>\n",
       "      <th>release_date</th>\n",
       "      <th>revenue</th>\n",
       "      <th>runtime</th>\n",
       "      <th>tagline</th>\n",
       "      <th>vote_average</th>\n",
       "      <th>vote_count</th>\n",
       "      <th>genres</th>\n",
       "    </tr>\n",
       "  </thead>\n",
       "  <tbody>\n",
       "    <tr>\n",
       "      <th>165</th>\n",
       "      <td>238</td>\n",
       "      <td>6000000</td>\n",
       "      <td>en</td>\n",
       "      <td>The Godfather</td>\n",
       "      <td>Spanning the years 1945 to 1955, a chronicle o...</td>\n",
       "      <td>41.109264</td>\n",
       "      <td>1972-03-14</td>\n",
       "      <td>245066411.0</td>\n",
       "      <td>175.0</td>\n",
       "      <td>An offer you can't refuse.</td>\n",
       "      <td>8.5</td>\n",
       "      <td>6024.0</td>\n",
       "      <td>['Drama', 'Crime']</td>\n",
       "    </tr>\n",
       "  </tbody>\n",
       "</table>\n",
       "</div>"
      ]
     },
     "execution_count": 157,
     "metadata": {},
     "output_type": "execute_result"
    }
   ],
   "source": [
    "qualified_movies_df[qualified_movies_df['title'] == 'The Godfather'][qualified_movies_df.columns[:13]]"
   ]
  },
  {
   "cell_type": "code",
   "execution_count": 158,
   "metadata": {},
   "outputs": [
    {
     "data": {
      "text/html": [
       "<div>\n",
       "<style scoped>\n",
       "    .dataframe tbody tr th:only-of-type {\n",
       "        vertical-align: middle;\n",
       "    }\n",
       "\n",
       "    .dataframe tbody tr th {\n",
       "        vertical-align: top;\n",
       "    }\n",
       "\n",
       "    .dataframe thead th {\n",
       "        text-align: right;\n",
       "    }\n",
       "</style>\n",
       "<table border=\"1\" class=\"dataframe\">\n",
       "  <thead>\n",
       "    <tr style=\"text-align: right;\">\n",
       "      <th></th>\n",
       "      <th>collection</th>\n",
       "      <th>actors</th>\n",
       "      <th>directors</th>\n",
       "      <th>producers</th>\n",
       "      <th>composers</th>\n",
       "      <th>screenplays</th>\n",
       "      <th>keywords</th>\n",
       "      <th>production_company</th>\n",
       "      <th>production_country</th>\n",
       "      <th>spoken_languages</th>\n",
       "    </tr>\n",
       "  </thead>\n",
       "  <tbody>\n",
       "    <tr>\n",
       "      <th>165</th>\n",
       "      <td>The Godfather Collection</td>\n",
       "      <td>['Marlon Brando_0', 'Al Pacino_1', 'James Caan...</td>\n",
       "      <td>['Francis Ford Coppola']</td>\n",
       "      <td>['Albert S. Ruddy']</td>\n",
       "      <td>['Nino Rota']</td>\n",
       "      <td>['Francis Ford Coppola', 'Mario Puzo']</td>\n",
       "      <td>['italy', 'love at first sight', 'loss of fath...</td>\n",
       "      <td>['Paramount Pictures', 'Alfran Productions']</td>\n",
       "      <td>['United States of America']</td>\n",
       "      <td>['en', 'it', 'la']</td>\n",
       "    </tr>\n",
       "  </tbody>\n",
       "</table>\n",
       "</div>"
      ],
      "text/plain": [
       "<div>\n",
       "<style scoped>\n",
       "    .dataframe tbody tr th:only-of-type {\n",
       "        vertical-align: middle;\n",
       "    }\n",
       "\n",
       "    .dataframe tbody tr th {\n",
       "        vertical-align: top;\n",
       "    }\n",
       "\n",
       "    .dataframe thead th {\n",
       "        text-align: right;\n",
       "    }\n",
       "</style>\n",
       "<table border=\"1\" class=\"dataframe\">\n",
       "  <thead>\n",
       "    <tr style=\"text-align: right;\">\n",
       "      <th></th>\n",
       "      <th>collection</th>\n",
       "      <th>actors</th>\n",
       "      <th>directors</th>\n",
       "      <th>producers</th>\n",
       "      <th>composers</th>\n",
       "      <th>screenplays</th>\n",
       "      <th>keywords</th>\n",
       "      <th>production_company</th>\n",
       "      <th>production_country</th>\n",
       "      <th>spoken_languages</th>\n",
       "    </tr>\n",
       "  </thead>\n",
       "  <tbody>\n",
       "    <tr>\n",
       "      <th>165</th>\n",
       "      <td>The Godfather Collection</td>\n",
       "      <td>['Marlon Brando_0', 'Al Pacino_1', 'James Caan...</td>\n",
       "      <td>['Francis Ford Coppola']</td>\n",
       "      <td>['Albert S. Ruddy']</td>\n",
       "      <td>['Nino Rota']</td>\n",
       "      <td>['Francis Ford Coppola', 'Mario Puzo']</td>\n",
       "      <td>['italy', 'love at first sight', 'loss of fath...</td>\n",
       "      <td>['Paramount Pictures', 'Alfran Productions']</td>\n",
       "      <td>['United States of America']</td>\n",
       "      <td>['en', 'it', 'la']</td>\n",
       "    </tr>\n",
       "  </tbody>\n",
       "</table>\n",
       "</div>"
      ]
     },
     "execution_count": 158,
     "metadata": {},
     "output_type": "execute_result"
    }
   ],
   "source": [
    "qualified_movies_df[qualified_movies_df['title'] == 'The Godfather'][qualified_movies_df.columns[13:]]"
   ]
  },
  {
   "cell_type": "code",
   "execution_count": 159,
   "metadata": {},
   "outputs": [
    {
     "data": {
      "text/plain": [
       "Index(['movie_id', 'budget', 'original_language', 'title', 'overview',\n       'popularity', 'release_date', 'revenue', 'runtime', 'tagline',\n       'vote_average', 'vote_count', 'genres', 'collection', 'actors',\n       'directors', 'producers', 'composers', 'screenplays', 'keywords',\n       'production_company', 'production_country', 'spoken_languages'],\n      dtype='object')"
      ]
     },
     "execution_count": 159,
     "metadata": {},
     "output_type": "execute_result"
    }
   ],
   "source": [
    "qualified_movies_df.columns"
   ]
  },
  {
   "cell_type": "markdown",
   "metadata": {
    "collapsed": true
   },
   "source": [
    "## Merge Processed keywords CSV with the Qualified Movies CSV"
   ]
  },
  {
   "cell_type": "code",
   "execution_count": 7,
   "metadata": {},
   "outputs": [],
   "source": [
    "\"\"\"Merge the two dataframes into one and continue processing other attributes\"\"\"\n",
    "import pandas as pd\n",
    "qualified_movies_df = pd.read_csv('.\\\\data\\\\processed_movies\\\\qualified_movies.csv')\n",
    "\n",
    "keywords_df = pd.read_csv('.\\\\data\\\\nlp\\\\preprocessed_keywords.csv')\n",
    "\n",
    "qualified_movies_df = qualified_movies_df.merge(keywords_df, on='movie_id')"
   ]
  },
  {
   "cell_type": "code",
   "execution_count": 8,
   "metadata": {},
   "outputs": [
    {
     "data": {
      "text/plain": [
       "'+country+ +jail+ +frame+ +helsinki+ +escape+ independent+film +crime+ +start+ +leave+ falling+in+love +commit+ +prison+ +life+ +father+ factory+worker +underdog+ +miner+ +dream+ committed+suicide +thing+ +plan+'"
      ]
     },
     "execution_count": 8,
     "metadata": {},
     "output_type": "execute_result"
    }
   ],
   "source": [
    "qualified_movies_df['preprocessed_keywords'][0]"
   ]
  },
  {
   "cell_type": "markdown",
   "metadata": {},
   "source": [
    "## Process release_date"
   ]
  },
  {
   "cell_type": "code",
   "execution_count": 9,
   "metadata": {},
   "outputs": [
    {
     "name": "stdout",
     "output_type": "stream",
     "text": [
      "Nans in column release_date before processing: 2\n"
     ]
    }
   ],
   "source": [
    "\"\"\"Check Nans in column\"\"\"\n",
    "print(\"Nans in column release_date before processing: {}\".format(qualified_movies_df['release_date'].isnull().sum()))\n",
    "\n",
    "\"\"\"Replace Nans with empty string\"\"\"\n",
    "qualified_movies_df['release_date'] = qualified_movies_df['release_date'].fillna('')"
   ]
  },
  {
   "cell_type": "code",
   "execution_count": 10,
   "metadata": {},
   "outputs": [],
   "source": [
    "\"\"\"Create new column_release_year\"\"\"\n",
    "\n",
    "qualified_movies_df['release_year'] = qualified_movies_df['release_date'].apply(lambda x: x.split('-')[0])"
   ]
  },
  {
   "cell_type": "code",
   "execution_count": 11,
   "metadata": {},
   "outputs": [
    {
     "data": {
      "text/plain": [
       "10302                   Ascendant\n11069    And Then There Were None\nName: title, dtype: object"
      ]
     },
     "execution_count": 11,
     "metadata": {},
     "output_type": "execute_result"
    }
   ],
   "source": [
    "\"\"\"show the 2 movies that don't have release year\"\"\"\n",
    "qualified_movies_df[qualified_movies_df['release_year'] == '']['title']"
   ]
  },
  {
   "cell_type": "code",
   "execution_count": 12,
   "metadata": {},
   "outputs": [],
   "source": [
    "\"\"\"Create column by decades\"\"\"\n",
    "\n",
    "\n",
    "def group_film_eras(year):\n",
    "    if year == '':\n",
    "        return ''\n",
    "    if int(year) < 1955:\n",
    "        return 'beginning_to_1955'\n",
    "    elif 1955 <= int(year) <= 1976:\n",
    "        return '1955_to_1976'\n",
    "    elif 1977 <= int(year) < 1990:\n",
    "        return '1980_to_1990'\n",
    "    elif 1990 <= int(year) < 2000:\n",
    "        return '1990_to_2000'\n",
    "    elif 2000 <= int(year) < 2010:\n",
    "        return '2000_to_2010'\n",
    "    else:\n",
    "        return '2010_till_now'\n",
    "\n",
    "\n",
    "qualified_movies_df['processed_eras'] = \\\n",
    "    qualified_movies_df['release_year'].apply(lambda x: group_film_eras(x))"
   ]
  },
  {
   "cell_type": "code",
   "execution_count": 13,
   "metadata": {
    "collapsed": true
   },
   "outputs": [
    {
     "data": {
      "text/plain": [
       "2"
      ]
     },
     "execution_count": 13,
     "metadata": {},
     "output_type": "execute_result"
    }
   ],
   "source": [
    "dict_of_processed_eras = dict(qualified_movies_df['processed_eras'].value_counts())\n",
    "dict_of_processed_eras.pop('')"
   ]
  },
  {
   "cell_type": "code",
   "execution_count": 14,
   "metadata": {},
   "outputs": [],
   "source": [
    "import matplotlib.pyplot as plt\n",
    "plt.pie(dict_of_processed_eras.values(), \n",
    "        labels=dict_of_processed_eras.keys(), autopct='%1.0f%%')\n",
    "plt.title('Процентно съотношение след групиране спрямо година на издаване')\n",
    "plt.show()"
   ]
  },
  {
   "cell_type": "markdown",
   "metadata": {},
   "source": [
    "## Process runtime"
   ]
  },
  {
   "cell_type": "code",
   "execution_count": 15,
   "metadata": {},
   "outputs": [
    {
     "name": "stdout",
     "output_type": "stream",
     "text": [
      "Nans in column release_date before processing: 0\n"
     ]
    }
   ],
   "source": [
    "\"\"\"Check Nans in column\"\"\"\n",
    "print(\"Nans in column release_date before processing: {}\".format(qualified_movies_df['runtime'].isnull().sum()))"
   ]
  },
  {
   "cell_type": "code",
   "execution_count": 16,
   "metadata": {
    "collapsed": true
   },
   "outputs": [
    {
     "data": {
      "text/plain": [
       "44"
      ]
     },
     "execution_count": 16,
     "metadata": {},
     "output_type": "execute_result"
    }
   ],
   "source": [
    "len(qualified_movies_df[qualified_movies_df['runtime'] == 0])"
   ]
  },
  {
   "cell_type": "code",
   "execution_count": 17,
   "metadata": {
    "collapsed": true
   },
   "outputs": [],
   "source": [
    "from ast import literal_eval\n",
    "\n",
    "dict_of_genres_runtimes = dict()\n",
    "\n",
    "for index, row in qualified_movies_df.iterrows():\n",
    "    if isinstance(row['genres'], str):\n",
    "        list_of_genres = literal_eval(row['genres'])\n",
    "        for genre in list_of_genres:\n",
    "            if genre in dict_of_genres_runtimes.keys():\n",
    "                dict_of_genres_runtimes[genre].append(row['runtime'])\n",
    "            else:\n",
    "                dict_of_genres_runtimes[genre] = [row['runtime']]"
   ]
  },
  {
   "cell_type": "code",
   "execution_count": 18,
   "metadata": {
    "collapsed": true
   },
   "outputs": [
    {
     "name": "stdout",
     "output_type": "stream",
     "text": [
      "('Animation', 77.59)\n('Family', 90.35)\n('TV Movie', 92.82)\n('Horror', 95.9)\n('Comedy', 98.56)\n('Foreign', 100.92)\n('Science Fiction', 101.9)\n('Documentary', 102.26)\n('Fantasy', 103.49)\n('Thriller', 104.61)\n('Action', 106.83)\n('Mystery', 106.94)\n('Crime', 107.01)\n('Music', 107.44)\n('Adventure', 107.53)\n('Romance', 108.45)\n('Drama', 111.21)\n('Western', 111.28)\n('War', 127.35)\n('History', 131.07)\n"
     ]
    }
   ],
   "source": [
    "dict_of_genre_avg_runtime = dict()\n",
    "for genre in dict_of_genres_runtimes.keys():\n",
    "    dict_of_genre_avg_runtime[genre] = round(sum(dict_of_genres_runtimes[genre]) / len(dict_of_genres_runtimes[genre]),\n",
    "                                             2)\n",
    "\n",
    "\"\"\"sort by average runtime\"\"\"\n",
    "list_of_genre_avg_runtime = sorted(dict_of_genre_avg_runtime.items(), key=lambda kv: kv[1])\n",
    "for item in list_of_genre_avg_runtime:\n",
    "    print(item)"
   ]
  },
  {
   "cell_type": "heading",
   "metadata": {},
   "level": 1,
   "source": [
    "Plots and grouping"
   ]
  },
  {
   "cell_type": "code",
   "execution_count": 19,
   "metadata": {
    "collapsed": true
   },
   "outputs": [],
   "source": [
    "def runtime_into_three_main_groups(runtime):\n",
    "    if runtime == 0:\n",
    "        return ''\n",
    "    if runtime < 100:\n",
    "        return 'runtime_under_100'\n",
    "    elif 100 <= runtime < 110:\n",
    "        return 'runtime_100_to_110'\n",
    "    else:\n",
    "        return 'runtime_above_110'\n",
    "\n",
    "\"\"\"I will group the runtimes by runtime_under_100, runtime_100_to_110, runtime_above_110\"\"\"\n",
    "qualified_movies_df['processed_runtime'] = \\\n",
    "    qualified_movies_df['runtime'].apply(lambda x: runtime_into_three_main_groups(x))\n"
   ]
  },
  {
   "cell_type": "code",
   "execution_count": 20,
   "metadata": {
    "collapsed": true
   },
   "outputs": [
    {
     "data": {
      "text/plain": [
       "44"
      ]
     },
     "execution_count": 20,
     "metadata": {},
     "output_type": "execute_result"
    }
   ],
   "source": [
    "dict_of_processed_runtime = dict(qualified_movies_df['processed_runtime'].value_counts())\n",
    "dict_of_processed_runtime.pop('')"
   ]
  },
  {
   "cell_type": "code",
   "execution_count": 21,
   "metadata": {},
   "outputs": [],
   "source": [
    "import matplotlib.pyplot as plt\n",
    "plt.pie(dict_of_processed_runtime.values(), \n",
    "        labels=dict_of_processed_runtime.keys(), autopct='%1.0f%%')\n",
    "plt.title('Ratio of movies after grouping into categories by runtime')\n",
    "plt.show()"
   ]
  },
  {
   "cell_type": "markdown",
   "metadata": {},
   "source": [
    "## Process actors, producers, directors, screenplays, composers, genres"
   ]
  },
  {
   "cell_type": "code",
   "execution_count": 22,
   "metadata": {},
   "outputs": [],
   "source": [
    "from ast import literal_eval\n",
    "import string\n",
    "\n",
    "def process_actors(str_obj_list, top_n_actors=3):\n",
    "    if not isinstance(str_obj_list, str):\n",
    "        return ''\n",
    "\n",
    "    list_of_res = []\n",
    "    for actor in literal_eval(str_obj_list):\n",
    "        actor_name = actor.split('_')[0]\n",
    "        actor_name = actor_name.translate(str.maketrans('', '', string.punctuation))\n",
    "        list_of_res.append('actor' + actor_name.replace(' ', ''))\n",
    "        if len(list_of_res) == top_n_actors:\n",
    "            break\n",
    "    return ' '.join(list_of_res)\n",
    "\n",
    "\n",
    "def process_producers_directors_screenplays_composers_genres(str_obj_list, keyword=''):\n",
    "    if not isinstance(str_obj_list, str):\n",
    "        if keyword != 'composer':\n",
    "            return ''\n",
    "        else:\n",
    "            return 'no_composer_available'\n",
    "\n",
    "    list_of_res = []\n",
    "    for item in literal_eval(str_obj_list):\n",
    "        item = item.translate(str.maketrans('', '', string.punctuation))\n",
    "        list_of_res.append(keyword + item.replace(' ', ''))\n",
    "\n",
    "    return ' '.join(list_of_res)"
   ]
  },
  {
   "cell_type": "code",
   "execution_count": 23,
   "metadata": {},
   "outputs": [],
   "source": [
    "qualified_movies_df['processed_actors'] = qualified_movies_df['actors'].apply(lambda x: process_actors(x))\n",
    "qualified_movies_df['processed_genres'] = \\\n",
    "    qualified_movies_df['genres'].apply(lambda x: process_producers_directors_screenplays_composers_genres(x, 'genre'))\n",
    "qualified_movies_df['processed_producers'] = \\\n",
    "    qualified_movies_df['producers'].apply(lambda x: process_producers_directors_screenplays_composers_genres(x, 'producer'))\n",
    "qualified_movies_df['processed_directors'] = \\\n",
    "    qualified_movies_df['directors'].apply(lambda x: process_producers_directors_screenplays_composers_genres(x, 'director'))\n",
    "qualified_movies_df['processed_screenplays'] = \\\n",
    "    qualified_movies_df['screenplays'].apply(lambda x: process_producers_directors_screenplays_composers_genres(x, 'screenplay'))\n",
    "qualified_movies_df['processed_composers'] = \\\n",
    "    qualified_movies_df['composers'].apply(lambda x: process_producers_directors_screenplays_composers_genres(x, 'composer'))"
   ]
  },
  {
   "cell_type": "code",
   "execution_count": 24,
   "metadata": {
    "collapsed": true
   },
   "outputs": [
    {
     "data": {
      "text/html": [
       "<div>\n",
       "<style scoped>\n",
       "    .dataframe tbody tr th:only-of-type {\n",
       "        vertical-align: middle;\n",
       "    }\n",
       "\n",
       "    .dataframe tbody tr th {\n",
       "        vertical-align: top;\n",
       "    }\n",
       "\n",
       "    .dataframe thead th {\n",
       "        text-align: right;\n",
       "    }\n",
       "</style>\n",
       "<table border=\"1\" class=\"dataframe\">\n",
       "  <thead>\n",
       "    <tr style=\"text-align: right;\">\n",
       "      <th></th>\n",
       "      <th>processed_actors</th>\n",
       "      <th>processed_genres</th>\n",
       "      <th>processed_producers</th>\n",
       "      <th>processed_directors</th>\n",
       "      <th>processed_screenplays</th>\n",
       "      <th>processed_composers</th>\n",
       "    </tr>\n",
       "  </thead>\n",
       "  <tbody>\n",
       "    <tr>\n",
       "      <th>0</th>\n",
       "      <td>actorTuroPajala actorSusannaHaavisto actorMatt...</td>\n",
       "      <td>genreDrama genreCrime</td>\n",
       "      <td></td>\n",
       "      <td>directorAkiKaurismäki</td>\n",
       "      <td>screenplayAkiKaurismäki</td>\n",
       "      <td>no_composer_available</td>\n",
       "    </tr>\n",
       "    <tr>\n",
       "      <th>1</th>\n",
       "      <td>actorTimRoth actorAntonioBanderas actorJennife...</td>\n",
       "      <td>genreCrime genreComedy</td>\n",
       "      <td>producerLawrenceBender</td>\n",
       "      <td>directorAllisonAnders directorAlexandreRockwel...</td>\n",
       "      <td></td>\n",
       "      <td>composerCombustibleEdison</td>\n",
       "    </tr>\n",
       "    <tr>\n",
       "      <th>2</th>\n",
       "      <td>actorEmilioEstevez actorCubaGoodingJr actorDen...</td>\n",
       "      <td>genreAction genreThriller genreCrime</td>\n",
       "      <td>producerGeneLevy</td>\n",
       "      <td>directorStephenHopkins</td>\n",
       "      <td>screenplayLewisColick</td>\n",
       "      <td>composerAlanSilvestri</td>\n",
       "    </tr>\n",
       "    <tr>\n",
       "      <th>3</th>\n",
       "      <td>actorMarkHamill actorHarrisonFord actorCarrieF...</td>\n",
       "      <td>genreAdventure genreAction genreScienceFiction</td>\n",
       "      <td>producerGaryKurtz producerRickMcCallum</td>\n",
       "      <td>directorGeorgeLucas</td>\n",
       "      <td></td>\n",
       "      <td>composerJohnWilliams</td>\n",
       "    </tr>\n",
       "    <tr>\n",
       "      <th>4</th>\n",
       "      <td>actorAlbertBrooks actorEllenDeGeneres actorAle...</td>\n",
       "      <td>genreAnimation genreFamily</td>\n",
       "      <td>producerGrahamWalters</td>\n",
       "      <td>directorAndrewStanton</td>\n",
       "      <td>screenplayAndrewStanton screenplayBobPeterson ...</td>\n",
       "      <td>composerThomasNewman</td>\n",
       "    </tr>\n",
       "    <tr>\n",
       "      <th>...</th>\n",
       "      <td>...</td>\n",
       "      <td>...</td>\n",
       "      <td>...</td>\n",
       "      <td>...</td>\n",
       "      <td>...</td>\n",
       "      <td>...</td>\n",
       "    </tr>\n",
       "    <tr>\n",
       "      <th>11392</th>\n",
       "      <td>actorAnnaHarr actorMarkGrossman actorPhyllisSp...</td>\n",
       "      <td>genreAdventure genreScienceFiction</td>\n",
       "      <td></td>\n",
       "      <td>directorNicoleJonesDion</td>\n",
       "      <td></td>\n",
       "      <td>no_composer_available</td>\n",
       "    </tr>\n",
       "    <tr>\n",
       "      <th>11393</th>\n",
       "      <td>actorGreyGriffin actorTaraStrong actorAnaisFai...</td>\n",
       "      <td>genreAnimation</td>\n",
       "      <td>producerRickMorales</td>\n",
       "      <td>directorToddGrimes</td>\n",
       "      <td></td>\n",
       "      <td>no_composer_available</td>\n",
       "    </tr>\n",
       "    <tr>\n",
       "      <th>11394</th>\n",
       "      <td>actorAntonioBanderas actorBenKingsley actorLia...</td>\n",
       "      <td>genreAction</td>\n",
       "      <td>producerJeffreyGreenstein producerGisellaMaren...</td>\n",
       "      <td>directorAlainDesrochers</td>\n",
       "      <td>screenplayJohnSullivan</td>\n",
       "      <td>no_composer_available</td>\n",
       "    </tr>\n",
       "    <tr>\n",
       "      <th>11395</th>\n",
       "      <td>actorAdriannePalicki actorMichaelJaiWhite acto...</td>\n",
       "      <td>genreAction genreCrime genreThriller</td>\n",
       "      <td>producerNealHMoritz producerVickiSotheran prod...</td>\n",
       "      <td>directorTonyGiglio</td>\n",
       "      <td></td>\n",
       "      <td>no_composer_available</td>\n",
       "    </tr>\n",
       "    <tr>\n",
       "      <th>11396</th>\n",
       "      <td>actorAdamRayner actorElizaDushku actorIanOgilvy</td>\n",
       "      <td>genreAction genreAdventure genreCrime</td>\n",
       "      <td></td>\n",
       "      <td>directorErnieBarbarash</td>\n",
       "      <td></td>\n",
       "      <td>no_composer_available</td>\n",
       "    </tr>\n",
       "  </tbody>\n",
       "</table>\n",
       "<p>11397 rows × 6 columns</p>\n",
       "</div>"
      ],
      "text/plain": [
       "<div>\n",
       "<style scoped>\n",
       "    .dataframe tbody tr th:only-of-type {\n",
       "        vertical-align: middle;\n",
       "    }\n",
       "\n",
       "    .dataframe tbody tr th {\n",
       "        vertical-align: top;\n",
       "    }\n",
       "\n",
       "    .dataframe thead th {\n",
       "        text-align: right;\n",
       "    }\n",
       "</style>\n",
       "<table border=\"1\" class=\"dataframe\">\n",
       "  <thead>\n",
       "    <tr style=\"text-align: right;\">\n",
       "      <th></th>\n",
       "      <th>processed_actors</th>\n",
       "      <th>processed_genres</th>\n",
       "      <th>processed_producers</th>\n",
       "      <th>processed_directors</th>\n",
       "      <th>processed_screenplays</th>\n",
       "      <th>processed_composers</th>\n",
       "    </tr>\n",
       "  </thead>\n",
       "  <tbody>\n",
       "    <tr>\n",
       "      <th>0</th>\n",
       "      <td>actorTuroPajala actorSusannaHaavisto actorMatt...</td>\n",
       "      <td>genreDrama genreCrime</td>\n",
       "      <td></td>\n",
       "      <td>directorAkiKaurismäki</td>\n",
       "      <td>screenplayAkiKaurismäki</td>\n",
       "      <td>no_composer_available</td>\n",
       "    </tr>\n",
       "    <tr>\n",
       "      <th>1</th>\n",
       "      <td>actorTimRoth actorAntonioBanderas actorJennife...</td>\n",
       "      <td>genreCrime genreComedy</td>\n",
       "      <td>producerLawrenceBender</td>\n",
       "      <td>directorAllisonAnders directorAlexandreRockwel...</td>\n",
       "      <td></td>\n",
       "      <td>composerCombustibleEdison</td>\n",
       "    </tr>\n",
       "    <tr>\n",
       "      <th>2</th>\n",
       "      <td>actorEmilioEstevez actorCubaGoodingJr actorDen...</td>\n",
       "      <td>genreAction genreThriller genreCrime</td>\n",
       "      <td>producerGeneLevy</td>\n",
       "      <td>directorStephenHopkins</td>\n",
       "      <td>screenplayLewisColick</td>\n",
       "      <td>composerAlanSilvestri</td>\n",
       "    </tr>\n",
       "    <tr>\n",
       "      <th>3</th>\n",
       "      <td>actorMarkHamill actorHarrisonFord actorCarrieF...</td>\n",
       "      <td>genreAdventure genreAction genreScienceFiction</td>\n",
       "      <td>producerGaryKurtz producerRickMcCallum</td>\n",
       "      <td>directorGeorgeLucas</td>\n",
       "      <td></td>\n",
       "      <td>composerJohnWilliams</td>\n",
       "    </tr>\n",
       "    <tr>\n",
       "      <th>4</th>\n",
       "      <td>actorAlbertBrooks actorEllenDeGeneres actorAle...</td>\n",
       "      <td>genreAnimation genreFamily</td>\n",
       "      <td>producerGrahamWalters</td>\n",
       "      <td>directorAndrewStanton</td>\n",
       "      <td>screenplayAndrewStanton screenplayBobPeterson ...</td>\n",
       "      <td>composerThomasNewman</td>\n",
       "    </tr>\n",
       "    <tr>\n",
       "      <th>...</th>\n",
       "      <td>...</td>\n",
       "      <td>...</td>\n",
       "      <td>...</td>\n",
       "      <td>...</td>\n",
       "      <td>...</td>\n",
       "      <td>...</td>\n",
       "    </tr>\n",
       "    <tr>\n",
       "      <th>11392</th>\n",
       "      <td>actorAnnaHarr actorMarkGrossman actorPhyllisSp...</td>\n",
       "      <td>genreAdventure genreScienceFiction</td>\n",
       "      <td></td>\n",
       "      <td>directorNicoleJonesDion</td>\n",
       "      <td></td>\n",
       "      <td>no_composer_available</td>\n",
       "    </tr>\n",
       "    <tr>\n",
       "      <th>11393</th>\n",
       "      <td>actorGreyGriffin actorTaraStrong actorAnaisFai...</td>\n",
       "      <td>genreAnimation</td>\n",
       "      <td>producerRickMorales</td>\n",
       "      <td>directorToddGrimes</td>\n",
       "      <td></td>\n",
       "      <td>no_composer_available</td>\n",
       "    </tr>\n",
       "    <tr>\n",
       "      <th>11394</th>\n",
       "      <td>actorAntonioBanderas actorBenKingsley actorLia...</td>\n",
       "      <td>genreAction</td>\n",
       "      <td>producerJeffreyGreenstein producerGisellaMaren...</td>\n",
       "      <td>directorAlainDesrochers</td>\n",
       "      <td>screenplayJohnSullivan</td>\n",
       "      <td>no_composer_available</td>\n",
       "    </tr>\n",
       "    <tr>\n",
       "      <th>11395</th>\n",
       "      <td>actorAdriannePalicki actorMichaelJaiWhite acto...</td>\n",
       "      <td>genreAction genreCrime genreThriller</td>\n",
       "      <td>producerNealHMoritz producerVickiSotheran prod...</td>\n",
       "      <td>directorTonyGiglio</td>\n",
       "      <td></td>\n",
       "      <td>no_composer_available</td>\n",
       "    </tr>\n",
       "    <tr>\n",
       "      <th>11396</th>\n",
       "      <td>actorAdamRayner actorElizaDushku actorIanOgilvy</td>\n",
       "      <td>genreAction genreAdventure genreCrime</td>\n",
       "      <td></td>\n",
       "      <td>directorErnieBarbarash</td>\n",
       "      <td></td>\n",
       "      <td>no_composer_available</td>\n",
       "    </tr>\n",
       "  </tbody>\n",
       "</table>\n",
       "<p>11397 rows × 6 columns</p>\n",
       "</div>"
      ]
     },
     "execution_count": 24,
     "metadata": {},
     "output_type": "execute_result"
    }
   ],
   "source": [
    "qualified_movies_df[['processed_actors', 'processed_genres', 'processed_producers', 'processed_directors', 'processed_screenplays', 'processed_composers']] "
   ]
  },
  {
   "cell_type": "code",
   "execution_count": 25,
   "metadata": {
    "collapsed": true
   },
   "outputs": [
    {
     "name": "stdout",
     "output_type": "stream",
     "text": [
      "Empty strings in composers: 0\nEmpty strings in actors: 32\nEmpty strings in producers: 2600\nEmpty strings in directors: 12\nEmpty strings in genres: 6\nEmpty strings in screenplays: 4880\n"
     ]
    }
   ],
   "source": [
    "print(\"Empty strings in composers: {}\".format(len(qualified_movies_df[qualified_movies_df['processed_composers'] == ''])))\n",
    "print(\"Empty strings in actors: {}\".format(len(qualified_movies_df[qualified_movies_df['processed_actors'] == ''])))\n",
    "print(\"Empty strings in producers: {}\".format(len(qualified_movies_df[qualified_movies_df['processed_producers'] == ''])))\n",
    "print(\"Empty strings in directors: {}\".format(len(qualified_movies_df[qualified_movies_df['processed_directors'] == ''])))\n",
    "print(\"Empty strings in genres: {}\".format(len(qualified_movies_df[qualified_movies_df['processed_genres'] == ''])))\n",
    "print(\"Empty strings in screenplays: {}\".format(len(qualified_movies_df[qualified_movies_df['processed_screenplays'] == '']))) "
   ]
  },
  {
   "cell_type": "code",
   "execution_count": 31,
   "metadata": {},
   "outputs": [
    {
     "data": {
      "text/plain": [
       "array([\"['elves', 'dwarves', 'orcs', 'middle-earth (tolkien)', 'hobbit', 'based on novel', 'mountain', 'fireworks', 'castle', 'volcano', 'password', 'death of a friend', 'uncle', 'mirror', 'wizard', 'sword and sorcery']\"],\n      dtype=object)"
      ]
     },
     "execution_count": 31,
     "metadata": {},
     "output_type": "execute_result"
    }
   ],
   "source": [
    "qualified_movies_df[qualified_movies_df['title']==\n",
    "                    'The Lord of the Rings: The Fellowship of the Ring']['keywords'].values"
   ]
  },
  {
   "cell_type": "markdown",
   "metadata": {},
   "source": [
    "## Process producton_company"
   ]
  },
  {
   "cell_type": "code",
   "execution_count": 19,
   "metadata": {},
   "outputs": [],
   "source": [
    "\"\"\"Create dictionary with key: genre and value dictionary of production company \n",
    "and occurences for the particular genre \"\"\"\n",
    "\n",
    "from ast import literal_eval\n",
    "\n",
    "dict_of_genres_prod_company = dict()\n",
    "\n",
    "for index, row in qualified_movies_df.iterrows():\n",
    "    if isinstance(row['genres'], str):\n",
    "        list_of_genres = literal_eval(row['genres'])\n",
    "        for genre in list_of_genres:\n",
    "            if isinstance(row['production_company'], str):\n",
    "                list_of_prod_company = literal_eval(row['production_company'])\n",
    "                for prod_company in list_of_prod_company:\n",
    "                    if genre in dict_of_genres_prod_company.keys():\n",
    "                        if prod_company in dict_of_genres_prod_company[genre].keys():\n",
    "                            dict_of_genres_prod_company[genre][prod_company] += 1\n",
    "                        else:\n",
    "                            dict_of_genres_prod_company[genre][prod_company] = 1\n",
    "                    else:\n",
    "                        dict_of_genres_prod_company[genre] = {prod_company: 1}"
   ]
  },
  {
   "cell_type": "code",
   "execution_count": 20,
   "metadata": {
    "collapsed": true
   },
   "outputs": [
    {
     "name": "stdout",
     "output_type": "stream",
     "text": [
      "top 5 companies for genre: Drama\n[('Warner Bros.', 309), ('Paramount Pictures', 224), ('Universal Pictures', 211), ('Twentieth Century Fox Film Corporation', 188), ('Columbia Pictures', 136)]\n----------------------\ntop 5 companies for genre: Crime\n[('Warner Bros.', 150), ('Universal Pictures', 95), ('Paramount Pictures', 78), ('Twentieth Century Fox Film Corporation', 57), ('Columbia Pictures', 47)]\n----------------------\ntop 5 companies for genre: Comedy\n[('Universal Pictures', 248), ('Paramount Pictures', 202), ('Warner Bros.', 196), ('Twentieth Century Fox Film Corporation', 173), ('Columbia Pictures', 133)]\n----------------------\ntop 5 companies for genre: Action\n[('Warner Bros.', 193), ('Universal Pictures', 151), ('Twentieth Century Fox Film Corporation', 140), ('Paramount Pictures', 132), ('Columbia Pictures', 89)]\n----------------------\ntop 5 companies for genre: Thriller\n[('Warner Bros.', 191), ('Universal Pictures', 156), ('Paramount Pictures', 147), ('Twentieth Century Fox Film Corporation', 117), ('Metro-Goldwyn-Mayer (MGM)', 77)]\n----------------------\ntop 5 companies for genre: Adventure\n[('Warner Bros.', 138), ('Paramount Pictures', 104), ('Universal Pictures', 95), ('Walt Disney Pictures', 94), ('Twentieth Century Fox Film Corporation', 93)]\n----------------------\ntop 5 companies for genre: Science Fiction\n[('Twentieth Century Fox Film Corporation', 79), ('Paramount Pictures', 70), ('Warner Bros.', 61), ('Universal Pictures', 59), ('New Line Cinema', 34)]\n----------------------\ntop 5 companies for genre: Animation\n[('Walt Disney Pictures', 88), ('Pixar Animation Studios', 50), ('DreamWorks Animation', 46), ('Warner Bros. Animation', 43), ('DC Comics', 33)]\n----------------------\ntop 5 companies for genre: Family\n[('Walt Disney Pictures', 174), ('Universal Pictures', 59), ('Twentieth Century Fox Film Corporation', 58), ('Warner Bros.', 54), ('Pixar Animation Studios', 43)]\n----------------------\ntop 5 companies for genre: Romance\n[('Paramount Pictures', 106), ('Warner Bros.', 105), ('Universal Pictures', 98), ('Metro-Goldwyn-Mayer (MGM)', 74), ('Twentieth Century Fox Film Corporation', 73)]\n----------------------\ntop 5 companies for genre: Mystery\n[('Warner Bros.', 69), ('Paramount Pictures', 54), ('Universal Pictures', 46), ('Metro-Goldwyn-Mayer (MGM)', 28), ('Twentieth Century Fox Film Corporation', 24)]\n----------------------\ntop 5 companies for genre: Music\n[('Warner Bros.', 24), ('Paramount Pictures', 24), ('Metro-Goldwyn-Mayer (MGM)', 24), ('Universal Pictures', 22), ('Twentieth Century Fox Film Corporation', 13)]\n----------------------\ntop 5 companies for genre: Horror\n[('Universal Pictures', 77), ('New Line Cinema', 49), ('Dimension Films', 48), ('Warner Bros.', 41), ('Paramount Pictures', 40)]\n----------------------\ntop 5 companies for genre: Fantasy\n[('Warner Bros.', 88), ('Universal Pictures', 58), ('Walt Disney Pictures', 53), ('Twentieth Century Fox Film Corporation', 50), ('Columbia Pictures', 31)]\n----------------------\ntop 5 companies for genre: War\n[('Warner Bros.', 22), ('Twentieth Century Fox Film Corporation', 18), ('Universal Pictures', 14), ('Paramount Pictures', 13), ('Metro-Goldwyn-Mayer (MGM)', 13)]\n----------------------\ntop 5 companies for genre: Western\n[('Warner Bros.', 24), ('Paramount Pictures', 19), ('Twentieth Century Fox Film Corporation', 18), ('United Artists', 15), ('Metro-Goldwyn-Mayer (MGM)', 13)]\n----------------------\ntop 5 companies for genre: History\n[('Warner Bros.', 22), ('Universal Pictures', 22), ('Twentieth Century Fox Film Corporation', 19), ('Paramount Pictures', 15), ('Canal+', 14)]\n----------------------\ntop 5 companies for genre: Documentary\n[('Participant Media', 6), ('Canal+', 5), ('Paramount Pictures', 4), ('BBC', 4), ('Jigsaw Productions', 4)]\n----------------------\ntop 5 companies for genre: TV Movie\n[('Disney Channel', 14), ('HBO Films', 6), ('Home Box Office (HBO)', 5), ('British Broadcasting Corporation (BBC)', 4), ('Hallmark Entertainment', 3)]\n----------------------\ntop 5 companies for genre: Foreign\n[('Gateway Films', 2), ('Imar Film Co., Ltd.', 1), ('Yash Raj Films', 1), ('Zentropa Entertainments', 1), ('Shotgun Pictures', 1)]\n----------------------\n"
     ]
    }
   ],
   "source": [
    "\"\"\"Print the top 5 production companies per genre\"\"\"\n",
    "\n",
    "for genre in dict_of_genres_prod_company.keys():\n",
    "    print('top 5 companies for genre: {}'.format(genre))\n",
    "    print(sorted(dict_of_genres_prod_company[genre].items(), key=lambda kv: kv[1], reverse=True)[:5])\n",
    "    print('----------------------')"
   ]
  },
  {
   "cell_type": "markdown",
   "metadata": {},
   "source": [
    "## Process spoken_languages and production_country"
   ]
  },
  {
   "cell_type": "code",
   "execution_count": 21,
   "metadata": {
    "collapsed": true
   },
   "outputs": [
    {
     "data": {
      "text/html": [
       "<div>\n",
       "<style scoped>\n",
       "    .dataframe tbody tr th:only-of-type {\n",
       "        vertical-align: middle;\n",
       "    }\n",
       "\n",
       "    .dataframe tbody tr th {\n",
       "        vertical-align: top;\n",
       "    }\n",
       "\n",
       "    .dataframe thead th {\n",
       "        text-align: right;\n",
       "    }\n",
       "</style>\n",
       "<table border=\"1\" class=\"dataframe\">\n",
       "  <thead>\n",
       "    <tr style=\"text-align: right;\">\n",
       "      <th></th>\n",
       "      <th>spoken_languages</th>\n",
       "      <th>production_country</th>\n",
       "    </tr>\n",
       "  </thead>\n",
       "  <tbody>\n",
       "    <tr>\n",
       "      <th>0</th>\n",
       "      <td>['fi', 'de']</td>\n",
       "      <td>['Finland']</td>\n",
       "    </tr>\n",
       "    <tr>\n",
       "      <th>1</th>\n",
       "      <td>['en']</td>\n",
       "      <td>['United States of America']</td>\n",
       "    </tr>\n",
       "    <tr>\n",
       "      <th>2</th>\n",
       "      <td>['en']</td>\n",
       "      <td>['Japan', 'United States of America']</td>\n",
       "    </tr>\n",
       "    <tr>\n",
       "      <th>3</th>\n",
       "      <td>['en']</td>\n",
       "      <td>['United States of America']</td>\n",
       "    </tr>\n",
       "    <tr>\n",
       "      <th>4</th>\n",
       "      <td>['en']</td>\n",
       "      <td>['United States of America']</td>\n",
       "    </tr>\n",
       "    <tr>\n",
       "      <th>...</th>\n",
       "      <td>...</td>\n",
       "      <td>...</td>\n",
       "    </tr>\n",
       "    <tr>\n",
       "      <th>11392</th>\n",
       "      <td>['en', 'pt']</td>\n",
       "      <td>['United States of America']</td>\n",
       "    </tr>\n",
       "    <tr>\n",
       "      <th>11393</th>\n",
       "      <td>['en', 'pl', 'pt']</td>\n",
       "      <td>['United States of America']</td>\n",
       "    </tr>\n",
       "    <tr>\n",
       "      <th>11394</th>\n",
       "      <td>['en']</td>\n",
       "      <td>['United States of America']</td>\n",
       "    </tr>\n",
       "    <tr>\n",
       "      <th>11395</th>\n",
       "      <td>['en']</td>\n",
       "      <td>['United States of America']</td>\n",
       "    </tr>\n",
       "    <tr>\n",
       "      <th>11396</th>\n",
       "      <td>['en', 'pt']</td>\n",
       "      <td>['United States of America']</td>\n",
       "    </tr>\n",
       "  </tbody>\n",
       "</table>\n",
       "<p>11397 rows × 2 columns</p>\n",
       "</div>"
      ],
      "text/plain": [
       "<div>\n",
       "<style scoped>\n",
       "    .dataframe tbody tr th:only-of-type {\n",
       "        vertical-align: middle;\n",
       "    }\n",
       "\n",
       "    .dataframe tbody tr th {\n",
       "        vertical-align: top;\n",
       "    }\n",
       "\n",
       "    .dataframe thead th {\n",
       "        text-align: right;\n",
       "    }\n",
       "</style>\n",
       "<table border=\"1\" class=\"dataframe\">\n",
       "  <thead>\n",
       "    <tr style=\"text-align: right;\">\n",
       "      <th></th>\n",
       "      <th>spoken_languages</th>\n",
       "      <th>production_country</th>\n",
       "    </tr>\n",
       "  </thead>\n",
       "  <tbody>\n",
       "    <tr>\n",
       "      <th>0</th>\n",
       "      <td>['fi', 'de']</td>\n",
       "      <td>['Finland']</td>\n",
       "    </tr>\n",
       "    <tr>\n",
       "      <th>1</th>\n",
       "      <td>['en']</td>\n",
       "      <td>['United States of America']</td>\n",
       "    </tr>\n",
       "    <tr>\n",
       "      <th>2</th>\n",
       "      <td>['en']</td>\n",
       "      <td>['Japan', 'United States of America']</td>\n",
       "    </tr>\n",
       "    <tr>\n",
       "      <th>3</th>\n",
       "      <td>['en']</td>\n",
       "      <td>['United States of America']</td>\n",
       "    </tr>\n",
       "    <tr>\n",
       "      <th>4</th>\n",
       "      <td>['en']</td>\n",
       "      <td>['United States of America']</td>\n",
       "    </tr>\n",
       "    <tr>\n",
       "      <th>...</th>\n",
       "      <td>...</td>\n",
       "      <td>...</td>\n",
       "    </tr>\n",
       "    <tr>\n",
       "      <th>11392</th>\n",
       "      <td>['en', 'pt']</td>\n",
       "      <td>['United States of America']</td>\n",
       "    </tr>\n",
       "    <tr>\n",
       "      <th>11393</th>\n",
       "      <td>['en', 'pl', 'pt']</td>\n",
       "      <td>['United States of America']</td>\n",
       "    </tr>\n",
       "    <tr>\n",
       "      <th>11394</th>\n",
       "      <td>['en']</td>\n",
       "      <td>['United States of America']</td>\n",
       "    </tr>\n",
       "    <tr>\n",
       "      <th>11395</th>\n",
       "      <td>['en']</td>\n",
       "      <td>['United States of America']</td>\n",
       "    </tr>\n",
       "    <tr>\n",
       "      <th>11396</th>\n",
       "      <td>['en', 'pt']</td>\n",
       "      <td>['United States of America']</td>\n",
       "    </tr>\n",
       "  </tbody>\n",
       "</table>\n",
       "<p>11397 rows × 2 columns</p>\n",
       "</div>"
      ]
     },
     "execution_count": 21,
     "metadata": {},
     "output_type": "execute_result"
    }
   ],
   "source": [
    "qualified_movies_df[['spoken_languages', 'production_country']]"
   ]
  },
  {
   "cell_type": "code",
   "execution_count": 23,
   "metadata": {},
   "outputs": [],
   "source": [
    "dict_of_languages_count = dict()\n",
    "dict_of_country_count = dict()\n",
    "\n",
    "for index, row in qualified_movies_df.iterrows():\n",
    "    if isinstance(row['spoken_languages'], str):\n",
    "        list_of_spoken_langs = literal_eval(row['spoken_languages'])\n",
    "        for lang in list_of_spoken_langs:\n",
    "            if lang in dict_of_languages_count.keys():\n",
    "                dict_of_languages_count[lang] += 1\n",
    "            else:\n",
    "                dict_of_languages_count[lang] = 1\n",
    "    if isinstance(row['production_country'], str):\n",
    "        list_of_prod_countries = literal_eval(row['production_country'])\n",
    "        for country in list_of_prod_countries:\n",
    "            if country in dict_of_country_count.keys():\n",
    "                dict_of_country_count[country] += 1\n",
    "            else:\n",
    "                dict_of_country_count[country] = 1"
   ]
  },
  {
   "cell_type": "code",
   "execution_count": 24,
   "metadata": {
    "collapsed": true
   },
   "outputs": [
    {
     "name": "stdout",
     "output_type": "stream",
     "text": [
      "Top 10 production countries: [('United States of America', 8128), ('United Kingdom', 1538), ('France', 1140), ('Germany', 700), ('Canada', 584), ('Italy', 431), ('Japan', 336), ('Spain', 247), ('Australia', 230), ('Hong Kong', 174)]\n-----------------------------\nTop 10 spoken languages: [('en', 9836), ('fr', 1353), ('es', 807), ('de', 720), ('it', 611), ('ja', 400), ('ru', 376), ('zh', 222), ('pt', 166), ('cn', 146)]\n"
     ]
    }
   ],
   "source": [
    "print('Top 10 production countries: {}'.format(sorted(dict_of_country_count.items(), key=lambda kv: kv[1], reverse=True)[:10]))\n",
    "print('-----------------------------')\n",
    "print('Top 10 spoken languages: {}'.format(sorted(dict_of_languages_count.items(), key=lambda kv: kv[1], reverse=True)[:10]))"
   ]
  },
  {
   "cell_type": "code",
   "execution_count": 25,
   "metadata": {},
   "outputs": [],
   "source": [
    "dict_of_genres_spoken_langs = dict()\n",
    "\n",
    "for index, row in qualified_movies_df.iterrows():\n",
    "    if isinstance(row['genres'], str):\n",
    "        list_of_genres = literal_eval(row['genres'])\n",
    "        for genre in list_of_genres:\n",
    "            if isinstance(row['spoken_languages'], str):\n",
    "                list_of_spoken_langs = literal_eval(row['spoken_languages'])\n",
    "                for lang in list_of_spoken_langs:\n",
    "                    if genre in dict_of_genres_spoken_langs.keys():\n",
    "                        if lang in dict_of_genres_spoken_langs[genre].keys():\n",
    "                            dict_of_genres_spoken_langs[genre][lang] += 1\n",
    "                        else:\n",
    "                            dict_of_genres_spoken_langs[genre][lang] = 1\n",
    "                    else:\n",
    "                        dict_of_genres_spoken_langs[genre] = {lang: 1}"
   ]
  },
  {
   "cell_type": "code",
   "execution_count": 27,
   "metadata": {
    "collapsed": true
   },
   "outputs": [
    {
     "name": "stdout",
     "output_type": "stream",
     "text": [
      "top 5 spoken languages for genre: Drama\n[('en', 4602), ('fr', 735), ('es', 407), ('de', 405), ('it', 298), ('ja', 186), ('ru', 182), ('zh', 114), ('ar', 95), ('ko', 71)]\n----------------------\ntop 5 spoken languages for genre: Crime\n[('en', 1441), ('fr', 188), ('es', 173), ('it', 101), ('de', 76), ('ru', 66), ('zh', 57), ('cn', 49), ('ja', 41), ('ar', 26)]\n----------------------\ntop 5 spoken languages for genre: Comedy\n[('en', 3401), ('fr', 500), ('es', 246), ('it', 234), ('de', 205), ('ru', 100), ('ja', 64), ('pt', 63), ('cn', 52), ('zh', 50)]\n----------------------\ntop 5 spoken languages for genre: Action\n[('en', 2230), ('fr', 246), ('es', 230), ('de', 186), ('ja', 180), ('zh', 144), ('ru', 138), ('it', 116), ('cn', 105), ('ar', 53)]\n----------------------\ntop 5 spoken languages for genre: Thriller\n[('en', 2811), ('fr', 313), ('es', 272), ('de', 201), ('ru', 140), ('it', 135), ('ja', 94), ('zh', 67), ('cn', 63), ('ar', 57)]\n----------------------\ntop 5 spoken languages for genre: Adventure\n[('en', 1428), ('fr', 184), ('es', 119), ('de', 109), ('ja', 81), ('it', 78), ('ru', 71), ('zh', 56), ('pt', 37), ('ar', 35)]\n----------------------\ntop 5 spoken languages for genre: Science Fiction\n[('en', 1083), ('fr', 91), ('ja', 81), ('es', 61), ('de', 56), ('ru', 47), ('it', 29), ('zh', 16), ('ko', 13), ('pt', 12)]\n----------------------\ntop 5 spoken languages for genre: Animation\n[('en', 593), ('ja', 135), ('fr', 58), ('es', 36), ('de', 19), ('it', 17), ('pt', 17), ('da', 16), ('xx', 10), ('th', 9)]\n----------------------\ntop 5 spoken languages for genre: Family\n[('en', 1027), ('fr', 103), ('es', 42), ('de', 41), ('it', 35), ('ja', 25), ('ru', 18), ('pt', 17), ('da', 17), ('th', 12)]\n----------------------\ntop 5 spoken languages for genre: Romance\n[('en', 1690), ('fr', 310), ('es', 145), ('de', 120), ('it', 113), ('ru', 61), ('hi', 40), ('ja', 36), ('pt', 32), ('zh', 25)]\n----------------------\ntop 5 spoken languages for genre: Mystery\n[('en', 781), ('fr', 106), ('es', 58), ('de', 47), ('it', 42), ('ru', 30), ('ja', 29), ('zh', 16), ('sv', 13), ('pl', 12)]\n----------------------\ntop 5 spoken languages for genre: Music\n[('en', 351), ('fr', 39), ('it', 22), ('es', 17), ('ru', 10), ('de', 10), ('pt', 5), ('hu', 5), ('cn', 3), ('nl', 3)]\n----------------------\ntop 5 spoken languages for genre: Horror\n[('en', 1407), ('fr', 98), ('de', 83), ('es', 83), ('it', 76), ('ja', 52), ('pl', 34), ('ru', 32), ('cs', 19), ('pt', 18)]\n----------------------\ntop 5 spoken languages for genre: Fantasy\n[('en', 839), ('fr', 97), ('ja', 66), ('de', 51), ('es', 49), ('it', 39), ('ru', 26), ('zh', 22), ('pt', 20), ('cn', 12)]\n----------------------\ntop 5 spoken languages for genre: War\n[('en', 307), ('de', 104), ('fr', 76), ('ru', 43), ('es', 25), ('ja', 23), ('it', 21), ('ar', 20), ('zh', 14), ('la', 13)]\n----------------------\ntop 5 spoken languages for genre: Western\n[('en', 216), ('es', 52), ('it', 22), ('fr', 19), ('de', 14), ('ru', 4), ('nv', 2), ('zh', 2), ('nl', 2), ('pl', 2)]\n----------------------\ntop 5 spoken languages for genre: History\n[('en', 364), ('de', 90), ('fr', 85), ('es', 47), ('ru', 39), ('ja', 34), ('zh', 28), ('it', 25), ('la', 20), ('ar', 19)]\n----------------------\ntop 5 spoken languages for genre: Documentary\n[('en', 200), ('fr', 33), ('de', 16), ('es', 14), ('pt', 8), ('ru', 7), ('it', 6), ('ar', 5), ('fa', 3), ('zh', 3)]\n----------------------\ntop 5 spoken languages for genre: TV Movie\n[('en', 126), ('fr', 8), ('de', 4), ('it', 4), ('es', 3), ('pt', 3), ('pl', 2), ('hu', 1), ('zh', 1), ('ru', 1)]\n----------------------\ntop 5 spoken languages for genre: Foreign\n[('en', 9), ('zh', 3), ('fr', 2), ('es', 1), ('hi', 1), ('da', 1)]\n----------------------\n"
     ]
    }
   ],
   "source": [
    "\"\"\"Print the top 5 spoken languages per genre\"\"\"\n",
    "\n",
    "for genre in dict_of_genres_spoken_langs.keys():\n",
    "    print('top 5 spoken languages for genre: {}'.format(genre))\n",
    "    print(sorted(dict_of_genres_spoken_langs[genre].items(), key=lambda kv: kv[1], reverse=True)[:10])\n",
    "    print('----------------------')"
   ]
  },
  {
   "cell_type": "markdown",
   "metadata": {},
   "source": [
    "## Combine all features that we will use"
   ]
  },
  {
   "cell_type": "code",
   "execution_count": 77,
   "metadata": {},
   "outputs": [],
   "source": [
    "qualified_movies_df.fillna('', inplace=True)"
   ]
  },
  {
   "cell_type": "code",
   "execution_count": 78,
   "metadata": {},
   "outputs": [],
   "source": [
    "qualified_movies_df['all_metadata'] = qualified_movies_df['processed_runtime'] + ' ' \\\n",
    "                                      + qualified_movies_df['processed_eras'] + ' ' \\\n",
    "                                      + qualified_movies_df['processed_actors'] + ' ' \\\n",
    "                                      + qualified_movies_df['processed_composers'] + ' ' \\\n",
    "                                      + qualified_movies_df['processed_producers'] + ' ' \\\n",
    "                                      + qualified_movies_df['processed_directors'] + ' ' \\\n",
    "                                      + qualified_movies_df['processed_screenplays'] + ' ' \\\n",
    "                                      + qualified_movies_df['processed_genres'] + ' ' \\\n",
    "                                      + qualified_movies_df['preprocessed_keywords']"
   ]
  },
  {
   "cell_type": "code",
   "execution_count": 79,
   "metadata": {},
   "outputs": [
    {
     "data": {
      "text/plain": [
       "'runtime_above_110 1955_to_1976 actorMarlonBrando actorAlPacino actorJamesCaan composerNinoRota producerAlbertSRuddy directorFrancisFordCoppola screenplayFrancisFordCoppola screenplayMarioPuzo genreDrama genreCrime +revenge+ +1940+ +power+ +1945+ mob+boss +mafia+ youngest+son +campaign+ +lawyer+ love+at+first+sight +italy+ +chronicle+ +launch+ +span+ +attempt+ +fiction+ +1955+ organized+crime +killer+ +rise+ loss+of+father +patriarch+ +life+ +care+ italian+american +italian+ +bloody+ crime+family'"
      ]
     },
     "execution_count": 79,
     "metadata": {},
     "output_type": "execute_result"
    }
   ],
   "source": [
    "\"\"\"Example all_metadata for The Godfather\"\"\"\n",
    "qualified_movies_df[qualified_movies_df['title'].isin(['The Godfather'])]['all_metadata'].values[0]"
   ]
  },
  {
   "cell_type": "code",
   "execution_count": 69,
   "metadata": {
    "collapsed": true
   },
   "outputs": [
    {
     "data": {
      "text/plain": [
       "movie_id                 0\nbudget                   0\noriginal_language        0\ntitle                    0\noverview                 0\npopularity               0\nrelease_date             0\nrevenue                  0\nruntime                  0\ntagline                  0\nvote_average             0\nvote_count               0\ngenres                   0\ncollection               0\nactors                   0\ndirectors                0\nproducers                0\ncomposers                0\nscreenplays              0\nkeywords                 0\nproduction_company       0\nproduction_country       0\nspoken_languages         0\npreprocessed_keywords    0\nrelease_year             0\nprocessed_eras           0\nprocessed_runtime        0\nprocessed_actors         0\nprocessed_genres         0\nprocessed_producers      0\nprocessed_directors      0\nprocessed_screenplays    0\nprocessed_composers      0\nall_metadata             0\ndtype: int64"
      ]
     },
     "execution_count": 69,
     "metadata": {},
     "output_type": "execute_result"
    }
   ],
   "source": [
    "qualified_movies_df.isnull().sum()"
   ]
  },
  {
   "cell_type": "markdown",
   "metadata": {},
   "source": [
    "## Update column \"qualify\" in DB table \"movies\""
   ]
  },
  {
   "cell_type": "code",
   "execution_count": 2,
   "metadata": {},
   "outputs": [],
   "source": [
    "list_of_movie_ids = list(qualified_movies_df['movie_id'].values)"
   ]
  },
  {
   "cell_type": "code",
   "execution_count": 3,
   "metadata": {
    "collapsed": true
   },
   "outputs": [],
   "source": [
    "from utils.database_operations import DatabaseOperations\n",
    "\n",
    "db_operations = DatabaseOperations()\n",
    "db_operations.update_qualified_movies(list_of_movie_ids)\n",
    "db_operations.close_session()"
   ]
  },
  {
   "cell_type": "markdown",
   "metadata": {},
   "source": [
    "## Save qualified_movies_df "
   ]
  },
  {
   "cell_type": "code",
   "execution_count": 80,
   "metadata": {},
   "outputs": [],
   "source": [
    "qualified_movies_df.to_csv('.\\\\data\\\\processed_movies\\\\qualified_all_metadata.csv', index=False)"
   ]
  },
  {
   "cell_type": "code",
   "execution_count": 1,
   "metadata": {},
   "outputs": [],
   "source": [
    "import pandas as pd\n",
    "\n",
    "qualified_movies_df = pd.read_csv('data\\\\processed_movies\\\\qualified_movies.csv')"
   ]
  },
  {
   "cell_type": "markdown",
   "metadata": {},
   "source": [
    "## We will continue in movie_similarity_based_system.ipynb\n"
   ]
  },
  {
   "cell_type": "code",
   "execution_count": null,
   "metadata": {},
   "outputs": [],
   "source": []
  }
 ],
 "metadata": {
  "kernelspec": {
   "display_name": "Python 2",
   "language": "python",
   "name": "python2"
  },
  "language_info": {
   "codemirror_mode": {
    "name": "ipython",
    "version": 2
   },
   "file_extension": ".py",
   "mimetype": "text/x-python",
   "name": "python",
   "nbconvert_exporter": "python",
   "pygments_lexer": "ipython2",
   "version": "2.7.6"
  }
 },
 "nbformat": 4,
 "nbformat_minor": 0
}
